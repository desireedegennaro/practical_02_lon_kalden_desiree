{
 "cells": [
  {
   "cell_type": "code",
   "execution_count": 55,
   "metadata": {},
   "outputs": [],
   "source": [
    "import pandas as pd\n",
    "import matplotlib.pyplot as plt\n",
    "import seaborn as sns\n",
    "import plotly.express as px\n",
    "\n"
   ]
  },
  {
   "cell_type": "code",
   "execution_count": 56,
   "metadata": {},
   "outputs": [
    {
     "data": {
      "text/html": [
       "<div>\n",
       "<style scoped>\n",
       "    .dataframe tbody tr th:only-of-type {\n",
       "        vertical-align: middle;\n",
       "    }\n",
       "\n",
       "    .dataframe tbody tr th {\n",
       "        vertical-align: top;\n",
       "    }\n",
       "\n",
       "    .dataframe thead th {\n",
       "        text-align: right;\n",
       "    }\n",
       "</style>\n",
       "<table border=\"1\" class=\"dataframe\">\n",
       "  <thead>\n",
       "    <tr style=\"text-align: right;\">\n",
       "      <th></th>\n",
       "      <th>Unnamed: 0</th>\n",
       "      <th>Chunk Size</th>\n",
       "      <th>Overlap</th>\n",
       "      <th>Embedding Model</th>\n",
       "      <th>Query</th>\n",
       "      <th>Vector DB</th>\n",
       "      <th>Query Time (s)</th>\n",
       "      <th>Memory Used</th>\n",
       "      <th>LLM Model</th>\n",
       "      <th>LLM Response</th>\n",
       "      <th>Model</th>\n",
       "    </tr>\n",
       "  </thead>\n",
       "  <tbody>\n",
       "    <tr>\n",
       "      <th>0</th>\n",
       "      <td>0</td>\n",
       "      <td>200</td>\n",
       "      <td>0</td>\n",
       "      <td>nomic-embed-text</td>\n",
       "      <td>What is redis?</td>\n",
       "      <td>redis</td>\n",
       "      <td>174.624804</td>\n",
       "      <td>237479</td>\n",
       "      <td>llama2</td>\n",
       "      <td>role='assistant' content='Redis (short for REA...</td>\n",
       "      <td>Redis</td>\n",
       "    </tr>\n",
       "    <tr>\n",
       "      <th>1</th>\n",
       "      <td>0</td>\n",
       "      <td>200</td>\n",
       "      <td>0</td>\n",
       "      <td>nomic-embed-text</td>\n",
       "      <td>What is an AVL tree?</td>\n",
       "      <td>redis</td>\n",
       "      <td>113.337713</td>\n",
       "      <td>210020</td>\n",
       "      <td>llama2</td>\n",
       "      <td>role='assistant' content='An AVL tree is a sel...</td>\n",
       "      <td>Redis</td>\n",
       "    </tr>\n",
       "    <tr>\n",
       "      <th>2</th>\n",
       "      <td>0</td>\n",
       "      <td>200</td>\n",
       "      <td>0</td>\n",
       "      <td>nomic-embed-text</td>\n",
       "      <td>How do document databases like MongoDB differ ...</td>\n",
       "      <td>redis</td>\n",
       "      <td>206.388777</td>\n",
       "      <td>211737</td>\n",
       "      <td>llama2</td>\n",
       "      <td>role='assistant' content='Document databases, ...</td>\n",
       "      <td>Redis</td>\n",
       "    </tr>\n",
       "    <tr>\n",
       "      <th>3</th>\n",
       "      <td>0</td>\n",
       "      <td>200</td>\n",
       "      <td>0</td>\n",
       "      <td>nomic-embed-text</td>\n",
       "      <td>What are tradeoffs between B+ Trees and LSM?</td>\n",
       "      <td>redis</td>\n",
       "      <td>259.517095</td>\n",
       "      <td>211461</td>\n",
       "      <td>llama2</td>\n",
       "      <td>role='assistant' content='B+ trees and Log-Str...</td>\n",
       "      <td>Redis</td>\n",
       "    </tr>\n",
       "    <tr>\n",
       "      <th>4</th>\n",
       "      <td>0</td>\n",
       "      <td>200</td>\n",
       "      <td>0</td>\n",
       "      <td>sentence-transformers/all-MiniLM-L6-v2</td>\n",
       "      <td>What is redis?</td>\n",
       "      <td>redis</td>\n",
       "      <td>158.155374</td>\n",
       "      <td>5835849</td>\n",
       "      <td>llama2</td>\n",
       "      <td>role='assistant' content='\\nRedis is an in-mem...</td>\n",
       "      <td>Redis</td>\n",
       "    </tr>\n",
       "  </tbody>\n",
       "</table>\n",
       "</div>"
      ],
      "text/plain": [
       "   Unnamed: 0  Chunk Size  Overlap                         Embedding Model  \\\n",
       "0           0         200        0                        nomic-embed-text   \n",
       "1           0         200        0                        nomic-embed-text   \n",
       "2           0         200        0                        nomic-embed-text   \n",
       "3           0         200        0                        nomic-embed-text   \n",
       "4           0         200        0  sentence-transformers/all-MiniLM-L6-v2   \n",
       "\n",
       "                                               Query Vector DB  \\\n",
       "0                                     What is redis?     redis   \n",
       "1                               What is an AVL tree?     redis   \n",
       "2  How do document databases like MongoDB differ ...     redis   \n",
       "3       What are tradeoffs between B+ Trees and LSM?     redis   \n",
       "4                                     What is redis?     redis   \n",
       "\n",
       "   Query Time (s)  Memory Used LLM Model  \\\n",
       "0      174.624804       237479    llama2   \n",
       "1      113.337713       210020    llama2   \n",
       "2      206.388777       211737    llama2   \n",
       "3      259.517095       211461    llama2   \n",
       "4      158.155374      5835849    llama2   \n",
       "\n",
       "                                        LLM Response  Model  \n",
       "0  role='assistant' content='Redis (short for REA...  Redis  \n",
       "1  role='assistant' content='An AVL tree is a sel...  Redis  \n",
       "2  role='assistant' content='Document databases, ...  Redis  \n",
       "3  role='assistant' content='B+ trees and Log-Str...  Redis  \n",
       "4  role='assistant' content='\\nRedis is an in-mem...  Redis  "
      ]
     },
     "execution_count": 56,
     "metadata": {},
     "output_type": "execute_result"
    }
   ],
   "source": [
    "chroma_df = pd.read_csv('results_chroma.csv')\n",
    "chroma_df['Model'] = ['Chroma' for i in range(len(chroma_df))]\n",
    "qdrant_df = pd.read_csv('results_qdrant.csv')\n",
    "chroma_df['Model'] = ['Qdrant' for i in range(len(chroma_df))]\n",
    "redis_df = pd.read_csv('results_redis.csv')\n",
    "redis_df['Model'] = ['Redis' for i in range(len(chroma_df))]\n",
    "redis_df.head()"
   ]
  },
  {
   "cell_type": "code",
   "execution_count": 57,
   "metadata": {},
   "outputs": [
    {
     "data": {
      "text/html": [
       "<div>\n",
       "<style scoped>\n",
       "    .dataframe tbody tr th:only-of-type {\n",
       "        vertical-align: middle;\n",
       "    }\n",
       "\n",
       "    .dataframe tbody tr th {\n",
       "        vertical-align: top;\n",
       "    }\n",
       "\n",
       "    .dataframe thead th {\n",
       "        text-align: right;\n",
       "    }\n",
       "</style>\n",
       "<table border=\"1\" class=\"dataframe\">\n",
       "  <thead>\n",
       "    <tr style=\"text-align: right;\">\n",
       "      <th></th>\n",
       "      <th>index</th>\n",
       "      <th>Query</th>\n",
       "      <th>Redis Memory</th>\n",
       "      <th>Redis Runtime</th>\n",
       "      <th>Chroma Memory</th>\n",
       "      <th>Chroma Runtime</th>\n",
       "      <th>Qdrant Memory</th>\n",
       "      <th>Qdrant Runtime</th>\n",
       "    </tr>\n",
       "  </thead>\n",
       "  <tbody>\n",
       "    <tr>\n",
       "      <th>0</th>\n",
       "      <td>0</td>\n",
       "      <td>How do document databases like MongoDB differ ...</td>\n",
       "      <td>4.026276e+06</td>\n",
       "      <td>207.532508</td>\n",
       "      <td>4.056489e+06</td>\n",
       "      <td>86.701187</td>\n",
       "      <td>4.040086e+06</td>\n",
       "      <td>322.262437</td>\n",
       "    </tr>\n",
       "    <tr>\n",
       "      <th>1</th>\n",
       "      <td>1</td>\n",
       "      <td>What are tradeoffs between B+ Trees and LSM?</td>\n",
       "      <td>4.029756e+06</td>\n",
       "      <td>820.146347</td>\n",
       "      <td>4.055761e+06</td>\n",
       "      <td>137.903510</td>\n",
       "      <td>4.037765e+06</td>\n",
       "      <td>179.875259</td>\n",
       "    </tr>\n",
       "    <tr>\n",
       "      <th>2</th>\n",
       "      <td>2</td>\n",
       "      <td>What is an AVL tree?</td>\n",
       "      <td>4.033208e+06</td>\n",
       "      <td>142.161088</td>\n",
       "      <td>4.055973e+06</td>\n",
       "      <td>62.318876</td>\n",
       "      <td>4.041120e+06</td>\n",
       "      <td>76.266764</td>\n",
       "    </tr>\n",
       "    <tr>\n",
       "      <th>3</th>\n",
       "      <td>3</td>\n",
       "      <td>What is redis?</td>\n",
       "      <td>4.038004e+06</td>\n",
       "      <td>127.158843</td>\n",
       "      <td>4.041169e+06</td>\n",
       "      <td>76.007340</td>\n",
       "      <td>4.047262e+06</td>\n",
       "      <td>137.920880</td>\n",
       "    </tr>\n",
       "  </tbody>\n",
       "</table>\n",
       "</div>"
      ],
      "text/plain": [
       "   index                                              Query  Redis Memory  \\\n",
       "0      0  How do document databases like MongoDB differ ...  4.026276e+06   \n",
       "1      1       What are tradeoffs between B+ Trees and LSM?  4.029756e+06   \n",
       "2      2                               What is an AVL tree?  4.033208e+06   \n",
       "3      3                                     What is redis?  4.038004e+06   \n",
       "\n",
       "   Redis Runtime  Chroma Memory  Chroma Runtime  Qdrant Memory  Qdrant Runtime  \n",
       "0     207.532508   4.056489e+06       86.701187   4.040086e+06      322.262437  \n",
       "1     820.146347   4.055761e+06      137.903510   4.037765e+06      179.875259  \n",
       "2     142.161088   4.055973e+06       62.318876   4.041120e+06       76.266764  \n",
       "3     127.158843   4.041169e+06       76.007340   4.047262e+06      137.920880  "
      ]
     },
     "execution_count": 57,
     "metadata": {},
     "output_type": "execute_result"
    }
   ],
   "source": [
    "chroma_qry_avg = chroma_df.groupby('Query')[['Memory Used', 'Query Time (s)']].mean()\n",
    "chroma_qry_avg.rename(columns= {'Memory Used':'Chroma Memory', 'Query Time (s)':'Chroma Runtime'}, inplace=True)\n",
    "qdrant_qry_avg = qdrant_df.groupby('Query')[['Memory Used', 'Query Time (s)']].mean()\n",
    "qdrant_qry_avg.rename(columns= {'Memory Used':'Qdrant Memory', 'Query Time (s)':'Qdrant Runtime'}, inplace=True)\n",
    "redis_qry_avg = redis_df.groupby('Query')[['Memory Used', 'Query Time (s)']].mean()\n",
    "redis_qry_avg.rename(columns= {'Memory Used':'Redis Memory', 'Query Time (s)':'Redis Runtime'}, inplace=True)\n",
    "merged_avgs = chroma_qry_avg.merge(qdrant_qry_avg, how='left', on='Query')\n",
    "merged_avgs.reset_index(inplace=True)\n",
    "merged_avgs = redis_qry_avg.merge(merged_avgs, how='left', on='Query')\n",
    "merged_avgs.reset_index(inplace=True)\n",
    "merged_avgs\n"
   ]
  },
  {
   "cell_type": "code",
   "execution_count": 58,
   "metadata": {},
   "outputs": [
    {
     "data": {
      "application/vnd.plotly.v1+json": {
       "config": {
        "plotlyServerURL": "https://plot.ly"
       },
       "data": [
        {
         "alignmentgroup": "True",
         "hovertemplate": "variable=Chroma Memory<br>Query=%{x}<br>value=%{y}<extra></extra>",
         "legendgroup": "Chroma Memory",
         "marker": {
          "color": "#636efa",
          "pattern": {
           "shape": ""
          }
         },
         "name": "Chroma Memory",
         "offsetgroup": "Chroma Memory",
         "orientation": "v",
         "showlegend": true,
         "textposition": "auto",
         "type": "bar",
         "x": [
          "How do document databases like MongoDB differ from relational databases?",
          "What are tradeoffs between B+ Trees and LSM?",
          "What is an AVL tree?",
          "What is redis?"
         ],
         "xaxis": "x",
         "y": [
          4056489.3333333335,
          4055760.8333333335,
          4055973.1666666665,
          4041168.8333333335
         ],
         "yaxis": "y"
        },
        {
         "alignmentgroup": "True",
         "hovertemplate": "variable=Qdrant Memory<br>Query=%{x}<br>value=%{y}<extra></extra>",
         "legendgroup": "Qdrant Memory",
         "marker": {
          "color": "#EF553B",
          "pattern": {
           "shape": ""
          }
         },
         "name": "Qdrant Memory",
         "offsetgroup": "Qdrant Memory",
         "orientation": "v",
         "showlegend": true,
         "textposition": "auto",
         "type": "bar",
         "x": [
          "How do document databases like MongoDB differ from relational databases?",
          "What are tradeoffs between B+ Trees and LSM?",
          "What is an AVL tree?",
          "What is redis?"
         ],
         "xaxis": "x",
         "y": [
          4040086.3333333335,
          4037765,
          4041119.6666666665,
          4047262.3333333335
         ],
         "yaxis": "y"
        },
        {
         "alignmentgroup": "True",
         "hovertemplate": "variable=Redis Memory<br>Query=%{x}<br>value=%{y}<extra></extra>",
         "legendgroup": "Redis Memory",
         "marker": {
          "color": "#00cc96",
          "pattern": {
           "shape": ""
          }
         },
         "name": "Redis Memory",
         "offsetgroup": "Redis Memory",
         "orientation": "v",
         "showlegend": true,
         "textposition": "auto",
         "type": "bar",
         "x": [
          "How do document databases like MongoDB differ from relational databases?",
          "What are tradeoffs between B+ Trees and LSM?",
          "What is an AVL tree?",
          "What is redis?"
         ],
         "xaxis": "x",
         "y": [
          4026276,
          4029756.1666666665,
          4033208,
          4038004.3333333335
         ],
         "yaxis": "y"
        }
       ],
       "layout": {
        "barmode": "group",
        "legend": {
         "title": {
          "text": "variable"
         },
         "tracegroupgap": 0
        },
        "margin": {
         "t": 60
        },
        "template": {
         "data": {
          "bar": [
           {
            "error_x": {
             "color": "#2a3f5f"
            },
            "error_y": {
             "color": "#2a3f5f"
            },
            "marker": {
             "line": {
              "color": "#E5ECF6",
              "width": 0.5
             },
             "pattern": {
              "fillmode": "overlay",
              "size": 10,
              "solidity": 0.2
             }
            },
            "type": "bar"
           }
          ],
          "barpolar": [
           {
            "marker": {
             "line": {
              "color": "#E5ECF6",
              "width": 0.5
             },
             "pattern": {
              "fillmode": "overlay",
              "size": 10,
              "solidity": 0.2
             }
            },
            "type": "barpolar"
           }
          ],
          "carpet": [
           {
            "aaxis": {
             "endlinecolor": "#2a3f5f",
             "gridcolor": "white",
             "linecolor": "white",
             "minorgridcolor": "white",
             "startlinecolor": "#2a3f5f"
            },
            "baxis": {
             "endlinecolor": "#2a3f5f",
             "gridcolor": "white",
             "linecolor": "white",
             "minorgridcolor": "white",
             "startlinecolor": "#2a3f5f"
            },
            "type": "carpet"
           }
          ],
          "choropleth": [
           {
            "colorbar": {
             "outlinewidth": 0,
             "ticks": ""
            },
            "type": "choropleth"
           }
          ],
          "contour": [
           {
            "colorbar": {
             "outlinewidth": 0,
             "ticks": ""
            },
            "colorscale": [
             [
              0,
              "#0d0887"
             ],
             [
              0.1111111111111111,
              "#46039f"
             ],
             [
              0.2222222222222222,
              "#7201a8"
             ],
             [
              0.3333333333333333,
              "#9c179e"
             ],
             [
              0.4444444444444444,
              "#bd3786"
             ],
             [
              0.5555555555555556,
              "#d8576b"
             ],
             [
              0.6666666666666666,
              "#ed7953"
             ],
             [
              0.7777777777777778,
              "#fb9f3a"
             ],
             [
              0.8888888888888888,
              "#fdca26"
             ],
             [
              1,
              "#f0f921"
             ]
            ],
            "type": "contour"
           }
          ],
          "contourcarpet": [
           {
            "colorbar": {
             "outlinewidth": 0,
             "ticks": ""
            },
            "type": "contourcarpet"
           }
          ],
          "heatmap": [
           {
            "colorbar": {
             "outlinewidth": 0,
             "ticks": ""
            },
            "colorscale": [
             [
              0,
              "#0d0887"
             ],
             [
              0.1111111111111111,
              "#46039f"
             ],
             [
              0.2222222222222222,
              "#7201a8"
             ],
             [
              0.3333333333333333,
              "#9c179e"
             ],
             [
              0.4444444444444444,
              "#bd3786"
             ],
             [
              0.5555555555555556,
              "#d8576b"
             ],
             [
              0.6666666666666666,
              "#ed7953"
             ],
             [
              0.7777777777777778,
              "#fb9f3a"
             ],
             [
              0.8888888888888888,
              "#fdca26"
             ],
             [
              1,
              "#f0f921"
             ]
            ],
            "type": "heatmap"
           }
          ],
          "heatmapgl": [
           {
            "colorbar": {
             "outlinewidth": 0,
             "ticks": ""
            },
            "colorscale": [
             [
              0,
              "#0d0887"
             ],
             [
              0.1111111111111111,
              "#46039f"
             ],
             [
              0.2222222222222222,
              "#7201a8"
             ],
             [
              0.3333333333333333,
              "#9c179e"
             ],
             [
              0.4444444444444444,
              "#bd3786"
             ],
             [
              0.5555555555555556,
              "#d8576b"
             ],
             [
              0.6666666666666666,
              "#ed7953"
             ],
             [
              0.7777777777777778,
              "#fb9f3a"
             ],
             [
              0.8888888888888888,
              "#fdca26"
             ],
             [
              1,
              "#f0f921"
             ]
            ],
            "type": "heatmapgl"
           }
          ],
          "histogram": [
           {
            "marker": {
             "pattern": {
              "fillmode": "overlay",
              "size": 10,
              "solidity": 0.2
             }
            },
            "type": "histogram"
           }
          ],
          "histogram2d": [
           {
            "colorbar": {
             "outlinewidth": 0,
             "ticks": ""
            },
            "colorscale": [
             [
              0,
              "#0d0887"
             ],
             [
              0.1111111111111111,
              "#46039f"
             ],
             [
              0.2222222222222222,
              "#7201a8"
             ],
             [
              0.3333333333333333,
              "#9c179e"
             ],
             [
              0.4444444444444444,
              "#bd3786"
             ],
             [
              0.5555555555555556,
              "#d8576b"
             ],
             [
              0.6666666666666666,
              "#ed7953"
             ],
             [
              0.7777777777777778,
              "#fb9f3a"
             ],
             [
              0.8888888888888888,
              "#fdca26"
             ],
             [
              1,
              "#f0f921"
             ]
            ],
            "type": "histogram2d"
           }
          ],
          "histogram2dcontour": [
           {
            "colorbar": {
             "outlinewidth": 0,
             "ticks": ""
            },
            "colorscale": [
             [
              0,
              "#0d0887"
             ],
             [
              0.1111111111111111,
              "#46039f"
             ],
             [
              0.2222222222222222,
              "#7201a8"
             ],
             [
              0.3333333333333333,
              "#9c179e"
             ],
             [
              0.4444444444444444,
              "#bd3786"
             ],
             [
              0.5555555555555556,
              "#d8576b"
             ],
             [
              0.6666666666666666,
              "#ed7953"
             ],
             [
              0.7777777777777778,
              "#fb9f3a"
             ],
             [
              0.8888888888888888,
              "#fdca26"
             ],
             [
              1,
              "#f0f921"
             ]
            ],
            "type": "histogram2dcontour"
           }
          ],
          "mesh3d": [
           {
            "colorbar": {
             "outlinewidth": 0,
             "ticks": ""
            },
            "type": "mesh3d"
           }
          ],
          "parcoords": [
           {
            "line": {
             "colorbar": {
              "outlinewidth": 0,
              "ticks": ""
             }
            },
            "type": "parcoords"
           }
          ],
          "pie": [
           {
            "automargin": true,
            "type": "pie"
           }
          ],
          "scatter": [
           {
            "fillpattern": {
             "fillmode": "overlay",
             "size": 10,
             "solidity": 0.2
            },
            "type": "scatter"
           }
          ],
          "scatter3d": [
           {
            "line": {
             "colorbar": {
              "outlinewidth": 0,
              "ticks": ""
             }
            },
            "marker": {
             "colorbar": {
              "outlinewidth": 0,
              "ticks": ""
             }
            },
            "type": "scatter3d"
           }
          ],
          "scattercarpet": [
           {
            "marker": {
             "colorbar": {
              "outlinewidth": 0,
              "ticks": ""
             }
            },
            "type": "scattercarpet"
           }
          ],
          "scattergeo": [
           {
            "marker": {
             "colorbar": {
              "outlinewidth": 0,
              "ticks": ""
             }
            },
            "type": "scattergeo"
           }
          ],
          "scattergl": [
           {
            "marker": {
             "colorbar": {
              "outlinewidth": 0,
              "ticks": ""
             }
            },
            "type": "scattergl"
           }
          ],
          "scattermapbox": [
           {
            "marker": {
             "colorbar": {
              "outlinewidth": 0,
              "ticks": ""
             }
            },
            "type": "scattermapbox"
           }
          ],
          "scatterpolar": [
           {
            "marker": {
             "colorbar": {
              "outlinewidth": 0,
              "ticks": ""
             }
            },
            "type": "scatterpolar"
           }
          ],
          "scatterpolargl": [
           {
            "marker": {
             "colorbar": {
              "outlinewidth": 0,
              "ticks": ""
             }
            },
            "type": "scatterpolargl"
           }
          ],
          "scatterternary": [
           {
            "marker": {
             "colorbar": {
              "outlinewidth": 0,
              "ticks": ""
             }
            },
            "type": "scatterternary"
           }
          ],
          "surface": [
           {
            "colorbar": {
             "outlinewidth": 0,
             "ticks": ""
            },
            "colorscale": [
             [
              0,
              "#0d0887"
             ],
             [
              0.1111111111111111,
              "#46039f"
             ],
             [
              0.2222222222222222,
              "#7201a8"
             ],
             [
              0.3333333333333333,
              "#9c179e"
             ],
             [
              0.4444444444444444,
              "#bd3786"
             ],
             [
              0.5555555555555556,
              "#d8576b"
             ],
             [
              0.6666666666666666,
              "#ed7953"
             ],
             [
              0.7777777777777778,
              "#fb9f3a"
             ],
             [
              0.8888888888888888,
              "#fdca26"
             ],
             [
              1,
              "#f0f921"
             ]
            ],
            "type": "surface"
           }
          ],
          "table": [
           {
            "cells": {
             "fill": {
              "color": "#EBF0F8"
             },
             "line": {
              "color": "white"
             }
            },
            "header": {
             "fill": {
              "color": "#C8D4E3"
             },
             "line": {
              "color": "white"
             }
            },
            "type": "table"
           }
          ]
         },
         "layout": {
          "annotationdefaults": {
           "arrowcolor": "#2a3f5f",
           "arrowhead": 0,
           "arrowwidth": 1
          },
          "autotypenumbers": "strict",
          "coloraxis": {
           "colorbar": {
            "outlinewidth": 0,
            "ticks": ""
           }
          },
          "colorscale": {
           "diverging": [
            [
             0,
             "#8e0152"
            ],
            [
             0.1,
             "#c51b7d"
            ],
            [
             0.2,
             "#de77ae"
            ],
            [
             0.3,
             "#f1b6da"
            ],
            [
             0.4,
             "#fde0ef"
            ],
            [
             0.5,
             "#f7f7f7"
            ],
            [
             0.6,
             "#e6f5d0"
            ],
            [
             0.7,
             "#b8e186"
            ],
            [
             0.8,
             "#7fbc41"
            ],
            [
             0.9,
             "#4d9221"
            ],
            [
             1,
             "#276419"
            ]
           ],
           "sequential": [
            [
             0,
             "#0d0887"
            ],
            [
             0.1111111111111111,
             "#46039f"
            ],
            [
             0.2222222222222222,
             "#7201a8"
            ],
            [
             0.3333333333333333,
             "#9c179e"
            ],
            [
             0.4444444444444444,
             "#bd3786"
            ],
            [
             0.5555555555555556,
             "#d8576b"
            ],
            [
             0.6666666666666666,
             "#ed7953"
            ],
            [
             0.7777777777777778,
             "#fb9f3a"
            ],
            [
             0.8888888888888888,
             "#fdca26"
            ],
            [
             1,
             "#f0f921"
            ]
           ],
           "sequentialminus": [
            [
             0,
             "#0d0887"
            ],
            [
             0.1111111111111111,
             "#46039f"
            ],
            [
             0.2222222222222222,
             "#7201a8"
            ],
            [
             0.3333333333333333,
             "#9c179e"
            ],
            [
             0.4444444444444444,
             "#bd3786"
            ],
            [
             0.5555555555555556,
             "#d8576b"
            ],
            [
             0.6666666666666666,
             "#ed7953"
            ],
            [
             0.7777777777777778,
             "#fb9f3a"
            ],
            [
             0.8888888888888888,
             "#fdca26"
            ],
            [
             1,
             "#f0f921"
            ]
           ]
          },
          "colorway": [
           "#636efa",
           "#EF553B",
           "#00cc96",
           "#ab63fa",
           "#FFA15A",
           "#19d3f3",
           "#FF6692",
           "#B6E880",
           "#FF97FF",
           "#FECB52"
          ],
          "font": {
           "color": "#2a3f5f"
          },
          "geo": {
           "bgcolor": "white",
           "lakecolor": "white",
           "landcolor": "#E5ECF6",
           "showlakes": true,
           "showland": true,
           "subunitcolor": "white"
          },
          "hoverlabel": {
           "align": "left"
          },
          "hovermode": "closest",
          "mapbox": {
           "style": "light"
          },
          "paper_bgcolor": "white",
          "plot_bgcolor": "#E5ECF6",
          "polar": {
           "angularaxis": {
            "gridcolor": "white",
            "linecolor": "white",
            "ticks": ""
           },
           "bgcolor": "#E5ECF6",
           "radialaxis": {
            "gridcolor": "white",
            "linecolor": "white",
            "ticks": ""
           }
          },
          "scene": {
           "xaxis": {
            "backgroundcolor": "#E5ECF6",
            "gridcolor": "white",
            "gridwidth": 2,
            "linecolor": "white",
            "showbackground": true,
            "ticks": "",
            "zerolinecolor": "white"
           },
           "yaxis": {
            "backgroundcolor": "#E5ECF6",
            "gridcolor": "white",
            "gridwidth": 2,
            "linecolor": "white",
            "showbackground": true,
            "ticks": "",
            "zerolinecolor": "white"
           },
           "zaxis": {
            "backgroundcolor": "#E5ECF6",
            "gridcolor": "white",
            "gridwidth": 2,
            "linecolor": "white",
            "showbackground": true,
            "ticks": "",
            "zerolinecolor": "white"
           }
          },
          "shapedefaults": {
           "line": {
            "color": "#2a3f5f"
           }
          },
          "ternary": {
           "aaxis": {
            "gridcolor": "white",
            "linecolor": "white",
            "ticks": ""
           },
           "baxis": {
            "gridcolor": "white",
            "linecolor": "white",
            "ticks": ""
           },
           "bgcolor": "#E5ECF6",
           "caxis": {
            "gridcolor": "white",
            "linecolor": "white",
            "ticks": ""
           }
          },
          "title": {
           "x": 0.05
          },
          "xaxis": {
           "automargin": true,
           "gridcolor": "white",
           "linecolor": "white",
           "ticks": "",
           "title": {
            "standoff": 15
           },
           "zerolinecolor": "white",
           "zerolinewidth": 2
          },
          "yaxis": {
           "automargin": true,
           "gridcolor": "white",
           "linecolor": "white",
           "ticks": "",
           "title": {
            "standoff": 15
           },
           "zerolinecolor": "white",
           "zerolinewidth": 2
          }
         }
        },
        "xaxis": {
         "anchor": "y",
         "domain": [
          0,
          1
         ],
         "title": {
          "text": "Query"
         }
        },
        "yaxis": {
         "anchor": "x",
         "domain": [
          0,
          1
         ],
         "title": {
          "text": "value"
         }
        }
       }
      }
     },
     "metadata": {},
     "output_type": "display_data"
    }
   ],
   "source": [
    "px.bar(merged_avgs,x='Query', y=['Chroma Memory', 'Qdrant Memory', 'Redis Memory'], barmode='group')"
   ]
  },
  {
   "cell_type": "code",
   "execution_count": 59,
   "metadata": {},
   "outputs": [
    {
     "data": {
      "application/vnd.plotly.v1+json": {
       "config": {
        "plotlyServerURL": "https://plot.ly"
       },
       "data": [
        {
         "alignmentgroup": "True",
         "hovertemplate": "variable=Chroma Runtime<br>Query=%{x}<br>value=%{y}<extra></extra>",
         "legendgroup": "Chroma Runtime",
         "marker": {
          "color": "#636efa",
          "pattern": {
           "shape": ""
          }
         },
         "name": "Chroma Runtime",
         "offsetgroup": "Chroma Runtime",
         "orientation": "v",
         "showlegend": true,
         "textposition": "auto",
         "type": "bar",
         "x": [
          "How do document databases like MongoDB differ from relational databases?",
          "What are tradeoffs between B+ Trees and LSM?",
          "What is an AVL tree?",
          "What is redis?"
         ],
         "xaxis": "x",
         "y": [
          86.70118705431621,
          137.90350981553397,
          62.31887590885162,
          76.00733963648479
         ],
         "yaxis": "y"
        },
        {
         "alignmentgroup": "True",
         "hovertemplate": "variable=Qdrant Runtime<br>Query=%{x}<br>value=%{y}<extra></extra>",
         "legendgroup": "Qdrant Runtime",
         "marker": {
          "color": "#EF553B",
          "pattern": {
           "shape": ""
          }
         },
         "name": "Qdrant Runtime",
         "offsetgroup": "Qdrant Runtime",
         "orientation": "v",
         "showlegend": true,
         "textposition": "auto",
         "type": "bar",
         "x": [
          "How do document databases like MongoDB differ from relational databases?",
          "What are tradeoffs between B+ Trees and LSM?",
          "What is an AVL tree?",
          "What is redis?"
         ],
         "xaxis": "x",
         "y": [
          322.2624366680781,
          179.87525916099548,
          76.26676380634308,
          137.92088043689728
         ],
         "yaxis": "y"
        },
        {
         "alignmentgroup": "True",
         "hovertemplate": "variable=Redis Runtime<br>Query=%{x}<br>value=%{y}<extra></extra>",
         "legendgroup": "Redis Runtime",
         "marker": {
          "color": "#00cc96",
          "pattern": {
           "shape": ""
          }
         },
         "name": "Redis Runtime",
         "offsetgroup": "Redis Runtime",
         "orientation": "v",
         "showlegend": true,
         "textposition": "auto",
         "type": "bar",
         "x": [
          "How do document databases like MongoDB differ from relational databases?",
          "What are tradeoffs between B+ Trees and LSM?",
          "What is an AVL tree?",
          "What is redis?"
         ],
         "xaxis": "x",
         "y": [
          207.53250833352408,
          820.1463471253713,
          142.16108767191568,
          127.1588427623113
         ],
         "yaxis": "y"
        }
       ],
       "layout": {
        "barmode": "group",
        "legend": {
         "title": {
          "text": "variable"
         },
         "tracegroupgap": 0
        },
        "margin": {
         "t": 60
        },
        "template": {
         "data": {
          "bar": [
           {
            "error_x": {
             "color": "#2a3f5f"
            },
            "error_y": {
             "color": "#2a3f5f"
            },
            "marker": {
             "line": {
              "color": "#E5ECF6",
              "width": 0.5
             },
             "pattern": {
              "fillmode": "overlay",
              "size": 10,
              "solidity": 0.2
             }
            },
            "type": "bar"
           }
          ],
          "barpolar": [
           {
            "marker": {
             "line": {
              "color": "#E5ECF6",
              "width": 0.5
             },
             "pattern": {
              "fillmode": "overlay",
              "size": 10,
              "solidity": 0.2
             }
            },
            "type": "barpolar"
           }
          ],
          "carpet": [
           {
            "aaxis": {
             "endlinecolor": "#2a3f5f",
             "gridcolor": "white",
             "linecolor": "white",
             "minorgridcolor": "white",
             "startlinecolor": "#2a3f5f"
            },
            "baxis": {
             "endlinecolor": "#2a3f5f",
             "gridcolor": "white",
             "linecolor": "white",
             "minorgridcolor": "white",
             "startlinecolor": "#2a3f5f"
            },
            "type": "carpet"
           }
          ],
          "choropleth": [
           {
            "colorbar": {
             "outlinewidth": 0,
             "ticks": ""
            },
            "type": "choropleth"
           }
          ],
          "contour": [
           {
            "colorbar": {
             "outlinewidth": 0,
             "ticks": ""
            },
            "colorscale": [
             [
              0,
              "#0d0887"
             ],
             [
              0.1111111111111111,
              "#46039f"
             ],
             [
              0.2222222222222222,
              "#7201a8"
             ],
             [
              0.3333333333333333,
              "#9c179e"
             ],
             [
              0.4444444444444444,
              "#bd3786"
             ],
             [
              0.5555555555555556,
              "#d8576b"
             ],
             [
              0.6666666666666666,
              "#ed7953"
             ],
             [
              0.7777777777777778,
              "#fb9f3a"
             ],
             [
              0.8888888888888888,
              "#fdca26"
             ],
             [
              1,
              "#f0f921"
             ]
            ],
            "type": "contour"
           }
          ],
          "contourcarpet": [
           {
            "colorbar": {
             "outlinewidth": 0,
             "ticks": ""
            },
            "type": "contourcarpet"
           }
          ],
          "heatmap": [
           {
            "colorbar": {
             "outlinewidth": 0,
             "ticks": ""
            },
            "colorscale": [
             [
              0,
              "#0d0887"
             ],
             [
              0.1111111111111111,
              "#46039f"
             ],
             [
              0.2222222222222222,
              "#7201a8"
             ],
             [
              0.3333333333333333,
              "#9c179e"
             ],
             [
              0.4444444444444444,
              "#bd3786"
             ],
             [
              0.5555555555555556,
              "#d8576b"
             ],
             [
              0.6666666666666666,
              "#ed7953"
             ],
             [
              0.7777777777777778,
              "#fb9f3a"
             ],
             [
              0.8888888888888888,
              "#fdca26"
             ],
             [
              1,
              "#f0f921"
             ]
            ],
            "type": "heatmap"
           }
          ],
          "heatmapgl": [
           {
            "colorbar": {
             "outlinewidth": 0,
             "ticks": ""
            },
            "colorscale": [
             [
              0,
              "#0d0887"
             ],
             [
              0.1111111111111111,
              "#46039f"
             ],
             [
              0.2222222222222222,
              "#7201a8"
             ],
             [
              0.3333333333333333,
              "#9c179e"
             ],
             [
              0.4444444444444444,
              "#bd3786"
             ],
             [
              0.5555555555555556,
              "#d8576b"
             ],
             [
              0.6666666666666666,
              "#ed7953"
             ],
             [
              0.7777777777777778,
              "#fb9f3a"
             ],
             [
              0.8888888888888888,
              "#fdca26"
             ],
             [
              1,
              "#f0f921"
             ]
            ],
            "type": "heatmapgl"
           }
          ],
          "histogram": [
           {
            "marker": {
             "pattern": {
              "fillmode": "overlay",
              "size": 10,
              "solidity": 0.2
             }
            },
            "type": "histogram"
           }
          ],
          "histogram2d": [
           {
            "colorbar": {
             "outlinewidth": 0,
             "ticks": ""
            },
            "colorscale": [
             [
              0,
              "#0d0887"
             ],
             [
              0.1111111111111111,
              "#46039f"
             ],
             [
              0.2222222222222222,
              "#7201a8"
             ],
             [
              0.3333333333333333,
              "#9c179e"
             ],
             [
              0.4444444444444444,
              "#bd3786"
             ],
             [
              0.5555555555555556,
              "#d8576b"
             ],
             [
              0.6666666666666666,
              "#ed7953"
             ],
             [
              0.7777777777777778,
              "#fb9f3a"
             ],
             [
              0.8888888888888888,
              "#fdca26"
             ],
             [
              1,
              "#f0f921"
             ]
            ],
            "type": "histogram2d"
           }
          ],
          "histogram2dcontour": [
           {
            "colorbar": {
             "outlinewidth": 0,
             "ticks": ""
            },
            "colorscale": [
             [
              0,
              "#0d0887"
             ],
             [
              0.1111111111111111,
              "#46039f"
             ],
             [
              0.2222222222222222,
              "#7201a8"
             ],
             [
              0.3333333333333333,
              "#9c179e"
             ],
             [
              0.4444444444444444,
              "#bd3786"
             ],
             [
              0.5555555555555556,
              "#d8576b"
             ],
             [
              0.6666666666666666,
              "#ed7953"
             ],
             [
              0.7777777777777778,
              "#fb9f3a"
             ],
             [
              0.8888888888888888,
              "#fdca26"
             ],
             [
              1,
              "#f0f921"
             ]
            ],
            "type": "histogram2dcontour"
           }
          ],
          "mesh3d": [
           {
            "colorbar": {
             "outlinewidth": 0,
             "ticks": ""
            },
            "type": "mesh3d"
           }
          ],
          "parcoords": [
           {
            "line": {
             "colorbar": {
              "outlinewidth": 0,
              "ticks": ""
             }
            },
            "type": "parcoords"
           }
          ],
          "pie": [
           {
            "automargin": true,
            "type": "pie"
           }
          ],
          "scatter": [
           {
            "fillpattern": {
             "fillmode": "overlay",
             "size": 10,
             "solidity": 0.2
            },
            "type": "scatter"
           }
          ],
          "scatter3d": [
           {
            "line": {
             "colorbar": {
              "outlinewidth": 0,
              "ticks": ""
             }
            },
            "marker": {
             "colorbar": {
              "outlinewidth": 0,
              "ticks": ""
             }
            },
            "type": "scatter3d"
           }
          ],
          "scattercarpet": [
           {
            "marker": {
             "colorbar": {
              "outlinewidth": 0,
              "ticks": ""
             }
            },
            "type": "scattercarpet"
           }
          ],
          "scattergeo": [
           {
            "marker": {
             "colorbar": {
              "outlinewidth": 0,
              "ticks": ""
             }
            },
            "type": "scattergeo"
           }
          ],
          "scattergl": [
           {
            "marker": {
             "colorbar": {
              "outlinewidth": 0,
              "ticks": ""
             }
            },
            "type": "scattergl"
           }
          ],
          "scattermapbox": [
           {
            "marker": {
             "colorbar": {
              "outlinewidth": 0,
              "ticks": ""
             }
            },
            "type": "scattermapbox"
           }
          ],
          "scatterpolar": [
           {
            "marker": {
             "colorbar": {
              "outlinewidth": 0,
              "ticks": ""
             }
            },
            "type": "scatterpolar"
           }
          ],
          "scatterpolargl": [
           {
            "marker": {
             "colorbar": {
              "outlinewidth": 0,
              "ticks": ""
             }
            },
            "type": "scatterpolargl"
           }
          ],
          "scatterternary": [
           {
            "marker": {
             "colorbar": {
              "outlinewidth": 0,
              "ticks": ""
             }
            },
            "type": "scatterternary"
           }
          ],
          "surface": [
           {
            "colorbar": {
             "outlinewidth": 0,
             "ticks": ""
            },
            "colorscale": [
             [
              0,
              "#0d0887"
             ],
             [
              0.1111111111111111,
              "#46039f"
             ],
             [
              0.2222222222222222,
              "#7201a8"
             ],
             [
              0.3333333333333333,
              "#9c179e"
             ],
             [
              0.4444444444444444,
              "#bd3786"
             ],
             [
              0.5555555555555556,
              "#d8576b"
             ],
             [
              0.6666666666666666,
              "#ed7953"
             ],
             [
              0.7777777777777778,
              "#fb9f3a"
             ],
             [
              0.8888888888888888,
              "#fdca26"
             ],
             [
              1,
              "#f0f921"
             ]
            ],
            "type": "surface"
           }
          ],
          "table": [
           {
            "cells": {
             "fill": {
              "color": "#EBF0F8"
             },
             "line": {
              "color": "white"
             }
            },
            "header": {
             "fill": {
              "color": "#C8D4E3"
             },
             "line": {
              "color": "white"
             }
            },
            "type": "table"
           }
          ]
         },
         "layout": {
          "annotationdefaults": {
           "arrowcolor": "#2a3f5f",
           "arrowhead": 0,
           "arrowwidth": 1
          },
          "autotypenumbers": "strict",
          "coloraxis": {
           "colorbar": {
            "outlinewidth": 0,
            "ticks": ""
           }
          },
          "colorscale": {
           "diverging": [
            [
             0,
             "#8e0152"
            ],
            [
             0.1,
             "#c51b7d"
            ],
            [
             0.2,
             "#de77ae"
            ],
            [
             0.3,
             "#f1b6da"
            ],
            [
             0.4,
             "#fde0ef"
            ],
            [
             0.5,
             "#f7f7f7"
            ],
            [
             0.6,
             "#e6f5d0"
            ],
            [
             0.7,
             "#b8e186"
            ],
            [
             0.8,
             "#7fbc41"
            ],
            [
             0.9,
             "#4d9221"
            ],
            [
             1,
             "#276419"
            ]
           ],
           "sequential": [
            [
             0,
             "#0d0887"
            ],
            [
             0.1111111111111111,
             "#46039f"
            ],
            [
             0.2222222222222222,
             "#7201a8"
            ],
            [
             0.3333333333333333,
             "#9c179e"
            ],
            [
             0.4444444444444444,
             "#bd3786"
            ],
            [
             0.5555555555555556,
             "#d8576b"
            ],
            [
             0.6666666666666666,
             "#ed7953"
            ],
            [
             0.7777777777777778,
             "#fb9f3a"
            ],
            [
             0.8888888888888888,
             "#fdca26"
            ],
            [
             1,
             "#f0f921"
            ]
           ],
           "sequentialminus": [
            [
             0,
             "#0d0887"
            ],
            [
             0.1111111111111111,
             "#46039f"
            ],
            [
             0.2222222222222222,
             "#7201a8"
            ],
            [
             0.3333333333333333,
             "#9c179e"
            ],
            [
             0.4444444444444444,
             "#bd3786"
            ],
            [
             0.5555555555555556,
             "#d8576b"
            ],
            [
             0.6666666666666666,
             "#ed7953"
            ],
            [
             0.7777777777777778,
             "#fb9f3a"
            ],
            [
             0.8888888888888888,
             "#fdca26"
            ],
            [
             1,
             "#f0f921"
            ]
           ]
          },
          "colorway": [
           "#636efa",
           "#EF553B",
           "#00cc96",
           "#ab63fa",
           "#FFA15A",
           "#19d3f3",
           "#FF6692",
           "#B6E880",
           "#FF97FF",
           "#FECB52"
          ],
          "font": {
           "color": "#2a3f5f"
          },
          "geo": {
           "bgcolor": "white",
           "lakecolor": "white",
           "landcolor": "#E5ECF6",
           "showlakes": true,
           "showland": true,
           "subunitcolor": "white"
          },
          "hoverlabel": {
           "align": "left"
          },
          "hovermode": "closest",
          "mapbox": {
           "style": "light"
          },
          "paper_bgcolor": "white",
          "plot_bgcolor": "#E5ECF6",
          "polar": {
           "angularaxis": {
            "gridcolor": "white",
            "linecolor": "white",
            "ticks": ""
           },
           "bgcolor": "#E5ECF6",
           "radialaxis": {
            "gridcolor": "white",
            "linecolor": "white",
            "ticks": ""
           }
          },
          "scene": {
           "xaxis": {
            "backgroundcolor": "#E5ECF6",
            "gridcolor": "white",
            "gridwidth": 2,
            "linecolor": "white",
            "showbackground": true,
            "ticks": "",
            "zerolinecolor": "white"
           },
           "yaxis": {
            "backgroundcolor": "#E5ECF6",
            "gridcolor": "white",
            "gridwidth": 2,
            "linecolor": "white",
            "showbackground": true,
            "ticks": "",
            "zerolinecolor": "white"
           },
           "zaxis": {
            "backgroundcolor": "#E5ECF6",
            "gridcolor": "white",
            "gridwidth": 2,
            "linecolor": "white",
            "showbackground": true,
            "ticks": "",
            "zerolinecolor": "white"
           }
          },
          "shapedefaults": {
           "line": {
            "color": "#2a3f5f"
           }
          },
          "ternary": {
           "aaxis": {
            "gridcolor": "white",
            "linecolor": "white",
            "ticks": ""
           },
           "baxis": {
            "gridcolor": "white",
            "linecolor": "white",
            "ticks": ""
           },
           "bgcolor": "#E5ECF6",
           "caxis": {
            "gridcolor": "white",
            "linecolor": "white",
            "ticks": ""
           }
          },
          "title": {
           "x": 0.05
          },
          "xaxis": {
           "automargin": true,
           "gridcolor": "white",
           "linecolor": "white",
           "ticks": "",
           "title": {
            "standoff": 15
           },
           "zerolinecolor": "white",
           "zerolinewidth": 2
          },
          "yaxis": {
           "automargin": true,
           "gridcolor": "white",
           "linecolor": "white",
           "ticks": "",
           "title": {
            "standoff": 15
           },
           "zerolinecolor": "white",
           "zerolinewidth": 2
          }
         }
        },
        "xaxis": {
         "anchor": "y",
         "domain": [
          0,
          1
         ],
         "title": {
          "text": "Query"
         }
        },
        "yaxis": {
         "anchor": "x",
         "domain": [
          0,
          1
         ],
         "title": {
          "text": "value"
         }
        }
       }
      }
     },
     "metadata": {},
     "output_type": "display_data"
    }
   ],
   "source": [
    "px.bar(merged_avgs,x='Query', y=['Chroma Runtime', 'Qdrant Runtime', 'Redis Runtime'], barmode='group')"
   ]
  },
  {
   "cell_type": "code",
   "execution_count": 60,
   "metadata": {},
   "outputs": [
    {
     "data": {
      "text/plain": [
       "Text(0, 0.5, 'Query Time (s)')"
      ]
     },
     "execution_count": 60,
     "metadata": {},
     "output_type": "execute_result"
    },
    {
     "data": {
      "image/png": "[encoded data removed]",
      "text/plain": [
       "<Figure size 640x480 with 1 Axes>"
      ]
     },
     "metadata": {},
     "output_type": "display_data"
    }
   ],
   "source": [
    "plt.bar(x=['Chroma', 'Qdrant', 'Redis'], height=[chroma_df['Query Time (s)'].mean(), qdrant_df['Query Time (s)'].mean(), redis_df['Query Time (s)'].mean()])\n",
    "plt.title('Mean query Times Across Models')\n",
    "plt.ylabel('Query Time (s)')"
   ]
  },
  {
   "cell_type": "code",
   "execution_count": 61,
   "metadata": {},
   "outputs": [
    {
     "data": {
      "text/html": [
       "<div>\n",
       "<style scoped>\n",
       "    .dataframe tbody tr th:only-of-type {\n",
       "        vertical-align: middle;\n",
       "    }\n",
       "\n",
       "    .dataframe tbody tr th {\n",
       "        vertical-align: top;\n",
       "    }\n",
       "\n",
       "    .dataframe thead th {\n",
       "        text-align: right;\n",
       "    }\n",
       "</style>\n",
       "<table border=\"1\" class=\"dataframe\">\n",
       "  <thead>\n",
       "    <tr style=\"text-align: right;\">\n",
       "      <th></th>\n",
       "      <th>index</th>\n",
       "      <th>Embedding Model</th>\n",
       "      <th>Redis Memory</th>\n",
       "      <th>Redis Runtime</th>\n",
       "      <th>Chroma Memory</th>\n",
       "      <th>Chroma Runtime</th>\n",
       "      <th>Qdrant Memory</th>\n",
       "      <th>Qdrant Runtime</th>\n",
       "    </tr>\n",
       "  </thead>\n",
       "  <tbody>\n",
       "    <tr>\n",
       "      <th>0</th>\n",
       "      <td>0</td>\n",
       "      <td>nomic-embed-text</td>\n",
       "      <td>213838.625</td>\n",
       "      <td>165.950549</td>\n",
       "      <td>278965.250</td>\n",
       "      <td>102.220810</td>\n",
       "      <td>251069.500</td>\n",
       "      <td>130.794042</td>\n",
       "    </tr>\n",
       "    <tr>\n",
       "      <th>1</th>\n",
       "      <td>1</td>\n",
       "      <td>sentence-transformers/all-MiniLM-L6-v2</td>\n",
       "      <td>5827001.500</td>\n",
       "      <td>179.668311</td>\n",
       "      <td>5818342.125</td>\n",
       "      <td>77.270156</td>\n",
       "      <td>5821131.375</td>\n",
       "      <td>263.350132</td>\n",
       "    </tr>\n",
       "    <tr>\n",
       "      <th>2</th>\n",
       "      <td>2</td>\n",
       "      <td>sentence-transformers/all-mpnet-base-v2</td>\n",
       "      <td>6054593.250</td>\n",
       "      <td>627.130230</td>\n",
       "      <td>6059736.750</td>\n",
       "      <td>92.707218</td>\n",
       "      <td>6052474.125</td>\n",
       "      <td>143.099830</td>\n",
       "    </tr>\n",
       "  </tbody>\n",
       "</table>\n",
       "</div>"
      ],
      "text/plain": [
       "   index                          Embedding Model  Redis Memory  \\\n",
       "0      0                         nomic-embed-text    213838.625   \n",
       "1      1   sentence-transformers/all-MiniLM-L6-v2   5827001.500   \n",
       "2      2  sentence-transformers/all-mpnet-base-v2   6054593.250   \n",
       "\n",
       "   Redis Runtime  Chroma Memory  Chroma Runtime  Qdrant Memory  Qdrant Runtime  \n",
       "0     165.950549     278965.250      102.220810     251069.500      130.794042  \n",
       "1     179.668311    5818342.125       77.270156    5821131.375      263.350132  \n",
       "2     627.130230    6059736.750       92.707218    6052474.125      143.099830  "
      ]
     },
     "execution_count": 61,
     "metadata": {},
     "output_type": "execute_result"
    }
   ],
   "source": [
    "chroma_embd_avg = chroma_df.groupby('Embedding Model')[['Memory Used', 'Query Time (s)']].mean()\n",
    "chroma_embd_avg.rename(columns= {'Memory Used':'Chroma Memory', 'Query Time (s)':'Chroma Runtime'}, inplace=True)\n",
    "qdrant_embd_avg = qdrant_df.groupby('Embedding Model')[['Memory Used', 'Query Time (s)']].mean()\n",
    "qdrant_embd_avg.rename(columns= {'Memory Used':'Qdrant Memory', 'Query Time (s)':'Qdrant Runtime'}, inplace=True)\n",
    "redis_embd_avg = redis_df.groupby('Embedding Model')[['Memory Used', 'Query Time (s)']].mean()\n",
    "redis_embd_avg.rename(columns= {'Memory Used':'Redis Memory', 'Query Time (s)':'Redis Runtime'}, inplace=True)\n",
    "merged_embd = chroma_embd_avg.merge(qdrant_embd_avg, how='left', on='Embedding Model')\n",
    "merged_embd.reset_index(inplace=True)\n",
    "merged_embd = redis_embd_avg.merge(merged_embd, how='left', on='Embedding Model')\n",
    "merged_embd.reset_index(inplace=True)\n",
    "merged_embd"
   ]
  },
  {
   "cell_type": "code",
   "execution_count": 74,
   "metadata": {},
   "outputs": [
    {
     "data": {
      "text/html": [
       "<div>\n",
       "<style scoped>\n",
       "    .dataframe tbody tr th:only-of-type {\n",
       "        vertical-align: middle;\n",
       "    }\n",
       "\n",
       "    .dataframe tbody tr th {\n",
       "        vertical-align: top;\n",
       "    }\n",
       "\n",
       "    .dataframe thead th {\n",
       "        text-align: right;\n",
       "    }\n",
       "</style>\n",
       "<table border=\"1\" class=\"dataframe\">\n",
       "  <thead>\n",
       "    <tr style=\"text-align: right;\">\n",
       "      <th></th>\n",
       "      <th>LLM Model</th>\n",
       "      <th>Embedding Model</th>\n",
       "      <th>Vector DB</th>\n",
       "      <th>Memory Used</th>\n",
       "      <th>Query Time (s)</th>\n",
       "      <th>LLM Response</th>\n",
       "      <th>model/embed</th>\n",
       "    </tr>\n",
       "  </thead>\n",
       "  <tbody>\n",
       "    <tr>\n",
       "      <th>0</th>\n",
       "      <td>llama2</td>\n",
       "      <td>nomic-embed-text</td>\n",
       "      <td>chroma</td>\n",
       "      <td>282355.50</td>\n",
       "      <td>131.552573</td>\n",
       "      <td>[role='assistant' content=\"Redis is an in-memo...</td>\n",
       "      <td>llama2, nomic-embed-text</td>\n",
       "    </tr>\n",
       "    <tr>\n",
       "      <th>1</th>\n",
       "      <td>llama2</td>\n",
       "      <td>nomic-embed-text</td>\n",
       "      <td>qdrant</td>\n",
       "      <td>258100.75</td>\n",
       "      <td>166.988926</td>\n",
       "      <td>[role='assistant' content='Redis (Redis Is Not...</td>\n",
       "      <td>llama2, nomic-embed-text</td>\n",
       "    </tr>\n",
       "    <tr>\n",
       "      <th>2</th>\n",
       "      <td>llama2</td>\n",
       "      <td>nomic-embed-text</td>\n",
       "      <td>redis</td>\n",
       "      <td>217674.25</td>\n",
       "      <td>188.467097</td>\n",
       "      <td>[role='assistant' content='Redis (short for RE...</td>\n",
       "      <td>llama2, nomic-embed-text</td>\n",
       "    </tr>\n",
       "    <tr>\n",
       "      <th>3</th>\n",
       "      <td>llama2</td>\n",
       "      <td>sentence-transformers/all-MiniLM-L6-v2</td>\n",
       "      <td>chroma</td>\n",
       "      <td>5816016.25</td>\n",
       "      <td>84.270588</td>\n",
       "      <td>[role='assistant' content='Redis is an in-memo...</td>\n",
       "      <td>llama2, sentence-transformers/all-MiniLM-L6-v2</td>\n",
       "    </tr>\n",
       "    <tr>\n",
       "      <th>4</th>\n",
       "      <td>llama2</td>\n",
       "      <td>sentence-transformers/all-MiniLM-L6-v2</td>\n",
       "      <td>qdrant</td>\n",
       "      <td>5819989.00</td>\n",
       "      <td>429.579211</td>\n",
       "      <td>[role='assistant' content='Redis (REStore Dict...</td>\n",
       "      <td>llama2, sentence-transformers/all-MiniLM-L6-v2</td>\n",
       "    </tr>\n",
       "  </tbody>\n",
       "</table>\n",
       "</div>"
      ],
      "text/plain": [
       "  LLM Model                         Embedding Model Vector DB  Memory Used  \\\n",
       "0    llama2                        nomic-embed-text    chroma    282355.50   \n",
       "1    llama2                        nomic-embed-text    qdrant    258100.75   \n",
       "2    llama2                        nomic-embed-text     redis    217674.25   \n",
       "3    llama2  sentence-transformers/all-MiniLM-L6-v2    chroma   5816016.25   \n",
       "4    llama2  sentence-transformers/all-MiniLM-L6-v2    qdrant   5819989.00   \n",
       "\n",
       "   Query Time (s)                                       LLM Response  \\\n",
       "0      131.552573  [role='assistant' content=\"Redis is an in-memo...   \n",
       "1      166.988926  [role='assistant' content='Redis (Redis Is Not...   \n",
       "2      188.467097  [role='assistant' content='Redis (short for RE...   \n",
       "3       84.270588  [role='assistant' content='Redis is an in-memo...   \n",
       "4      429.579211  [role='assistant' content='Redis (REStore Dict...   \n",
       "\n",
       "                                      model/embed  \n",
       "0                        llama2, nomic-embed-text  \n",
       "1                        llama2, nomic-embed-text  \n",
       "2                        llama2, nomic-embed-text  \n",
       "3  llama2, sentence-transformers/all-MiniLM-L6-v2  \n",
       "4  llama2, sentence-transformers/all-MiniLM-L6-v2  "
      ]
     },
     "execution_count": 74,
     "metadata": {},
     "output_type": "execute_result"
    }
   ],
   "source": [
    "concatted = pd.concat([qdrant_df, chroma_df, redis_df])\n",
    "model_embed = concatted.groupby(['LLM Model', 'Embedding Model', 'Vector DB']).agg({\n",
    "    'Memory Used': 'mean',\n",
    "    'Query Time (s)': 'mean',\n",
    "    'LLM Response': lambda x: list(x) if isinstance(x.iloc[0], list) else list(x) \n",
    "}).reset_index()\n",
    "model_embed['model/embed'] = model_embed.apply(lambda row: row['LLM Model'] +', ' + row['Embedding Model'], axis=1)\n",
    "model_embed.head()"
   ]
  },
  {
   "cell_type": "code",
   "execution_count": 63,
   "metadata": {},
   "outputs": [
    {
     "data": {
      "application/vnd.plotly.v1+json": {
       "config": {
        "plotlyServerURL": "https://plot.ly"
       },
       "data": [
        {
         "alignmentgroup": "True",
         "customdata": [
          [
           "chroma"
          ],
          [
           "qdrant"
          ],
          [
           "redis"
          ],
          [
           "chroma"
          ],
          [
           "qdrant"
          ],
          [
           "redis"
          ],
          [
           "chroma"
          ],
          [
           "qdrant"
          ],
          [
           "redis"
          ],
          [
           "chroma"
          ],
          [
           "qdrant"
          ],
          [
           "redis"
          ],
          [
           "chroma"
          ],
          [
           "qdrant"
          ],
          [
           "redis"
          ],
          [
           "chroma"
          ],
          [
           "qdrant"
          ],
          [
           "redis"
          ]
         ],
         "hovertemplate": "variable=Query Time (s)<br>model/embed=%{x}<br>value=%{y}<br>Vector DB=%{customdata[0]}<extra></extra>",
         "legendgroup": "Query Time (s)",
         "marker": {
          "color": "#636efa",
          "pattern": {
           "shape": ""
          }
         },
         "name": "Query Time (s)",
         "offsetgroup": "Query Time (s)",
         "orientation": "v",
         "showlegend": true,
         "textposition": "auto",
         "type": "bar",
         "x": [
          "llama2, nomic-embed-text",
          "llama2, nomic-embed-text",
          "llama2, nomic-embed-text",
          "llama2, sentence-transformers/all-MiniLM-L6-v2",
          "llama2, sentence-transformers/all-MiniLM-L6-v2",
          "llama2, sentence-transformers/all-MiniLM-L6-v2",
          "llama2, sentence-transformers/all-mpnet-base-v2",
          "llama2, sentence-transformers/all-mpnet-base-v2",
          "llama2, sentence-transformers/all-mpnet-base-v2",
          "mistral, nomic-embed-text",
          "mistral, nomic-embed-text",
          "mistral, nomic-embed-text",
          "mistral, sentence-transformers/all-MiniLM-L6-v2",
          "mistral, sentence-transformers/all-MiniLM-L6-v2",
          "mistral, sentence-transformers/all-MiniLM-L6-v2",
          "mistral, sentence-transformers/all-mpnet-base-v2",
          "mistral, sentence-transformers/all-mpnet-base-v2",
          "mistral, sentence-transformers/all-mpnet-base-v2"
         ],
         "xaxis": "x",
         "y": [
          131.5525734424591,
          166.98892557621002,
          188.4670973420143,
          84.27058804035187,
          429.5792108774185,
          194.69151121377945,
          99.8199553489685,
          172.2266576886177,
          209.41340017318726,
          72.88904672861099,
          94.59915935993195,
          143.43400007486343,
          70.26972359418869,
          97.12105345726013,
          164.6451107263565,
          85.59448146820068,
          113.97300314903259,
          1044.8470593094826
         ],
         "yaxis": "y"
        }
       ],
       "layout": {
        "barmode": "relative",
        "legend": {
         "title": {
          "text": "variable"
         },
         "tracegroupgap": 0
        },
        "margin": {
         "t": 60
        },
        "template": {
         "data": {
          "bar": [
           {
            "error_x": {
             "color": "#2a3f5f"
            },
            "error_y": {
             "color": "#2a3f5f"
            },
            "marker": {
             "line": {
              "color": "#E5ECF6",
              "width": 0.5
             },
             "pattern": {
              "fillmode": "overlay",
              "size": 10,
              "solidity": 0.2
             }
            },
            "type": "bar"
           }
          ],
          "barpolar": [
           {
            "marker": {
             "line": {
              "color": "#E5ECF6",
              "width": 0.5
             },
             "pattern": {
              "fillmode": "overlay",
              "size": 10,
              "solidity": 0.2
             }
            },
            "type": "barpolar"
           }
          ],
          "carpet": [
           {
            "aaxis": {
             "endlinecolor": "#2a3f5f",
             "gridcolor": "white",
             "linecolor": "white",
             "minorgridcolor": "white",
             "startlinecolor": "#2a3f5f"
            },
            "baxis": {
             "endlinecolor": "#2a3f5f",
             "gridcolor": "white",
             "linecolor": "white",
             "minorgridcolor": "white",
             "startlinecolor": "#2a3f5f"
            },
            "type": "carpet"
           }
          ],
          "choropleth": [
           {
            "colorbar": {
             "outlinewidth": 0,
             "ticks": ""
            },
            "type": "choropleth"
           }
          ],
          "contour": [
           {
            "colorbar": {
             "outlinewidth": 0,
             "ticks": ""
            },
            "colorscale": [
             [
              0,
              "#0d0887"
             ],
             [
              0.1111111111111111,
              "#46039f"
             ],
             [
              0.2222222222222222,
              "#7201a8"
             ],
             [
              0.3333333333333333,
              "#9c179e"
             ],
             [
              0.4444444444444444,
              "#bd3786"
             ],
             [
              0.5555555555555556,
              "#d8576b"
             ],
             [
              0.6666666666666666,
              "#ed7953"
             ],
             [
              0.7777777777777778,
              "#fb9f3a"
             ],
             [
              0.8888888888888888,
              "#fdca26"
             ],
             [
              1,
              "#f0f921"
             ]
            ],
            "type": "contour"
           }
          ],
          "contourcarpet": [
           {
            "colorbar": {
             "outlinewidth": 0,
             "ticks": ""
            },
            "type": "contourcarpet"
           }
          ],
          "heatmap": [
           {
            "colorbar": {
             "outlinewidth": 0,
             "ticks": ""
            },
            "colorscale": [
             [
              0,
              "#0d0887"
             ],
             [
              0.1111111111111111,
              "#46039f"
             ],
             [
              0.2222222222222222,
              "#7201a8"
             ],
             [
              0.3333333333333333,
              "#9c179e"
             ],
             [
              0.4444444444444444,
              "#bd3786"
             ],
             [
              0.5555555555555556,
              "#d8576b"
             ],
             [
              0.6666666666666666,
              "#ed7953"
             ],
             [
              0.7777777777777778,
              "#fb9f3a"
             ],
             [
              0.8888888888888888,
              "#fdca26"
             ],
             [
              1,
              "#f0f921"
             ]
            ],
            "type": "heatmap"
           }
          ],
          "heatmapgl": [
           {
            "colorbar": {
             "outlinewidth": 0,
             "ticks": ""
            },
            "colorscale": [
             [
              0,
              "#0d0887"
             ],
             [
              0.1111111111111111,
              "#46039f"
             ],
             [
              0.2222222222222222,
              "#7201a8"
             ],
             [
              0.3333333333333333,
              "#9c179e"
             ],
             [
              0.4444444444444444,
              "#bd3786"
             ],
             [
              0.5555555555555556,
              "#d8576b"
             ],
             [
              0.6666666666666666,
              "#ed7953"
             ],
             [
              0.7777777777777778,
              "#fb9f3a"
             ],
             [
              0.8888888888888888,
              "#fdca26"
             ],
             [
              1,
              "#f0f921"
             ]
            ],
            "type": "heatmapgl"
           }
          ],
          "histogram": [
           {
            "marker": {
             "pattern": {
              "fillmode": "overlay",
              "size": 10,
              "solidity": 0.2
             }
            },
            "type": "histogram"
           }
          ],
          "histogram2d": [
           {
            "colorbar": {
             "outlinewidth": 0,
             "ticks": ""
            },
            "colorscale": [
             [
              0,
              "#0d0887"
             ],
             [
              0.1111111111111111,
              "#46039f"
             ],
             [
              0.2222222222222222,
              "#7201a8"
             ],
             [
              0.3333333333333333,
              "#9c179e"
             ],
             [
              0.4444444444444444,
              "#bd3786"
             ],
             [
              0.5555555555555556,
              "#d8576b"
             ],
             [
              0.6666666666666666,
              "#ed7953"
             ],
             [
              0.7777777777777778,
              "#fb9f3a"
             ],
             [
              0.8888888888888888,
              "#fdca26"
             ],
             [
              1,
              "#f0f921"
             ]
            ],
            "type": "histogram2d"
           }
          ],
          "histogram2dcontour": [
           {
            "colorbar": {
             "outlinewidth": 0,
             "ticks": ""
            },
            "colorscale": [
             [
              0,
              "#0d0887"
             ],
             [
              0.1111111111111111,
              "#46039f"
             ],
             [
              0.2222222222222222,
              "#7201a8"
             ],
             [
              0.3333333333333333,
              "#9c179e"
             ],
             [
              0.4444444444444444,
              "#bd3786"
             ],
             [
              0.5555555555555556,
              "#d8576b"
             ],
             [
              0.6666666666666666,
              "#ed7953"
             ],
             [
              0.7777777777777778,
              "#fb9f3a"
             ],
             [
              0.8888888888888888,
              "#fdca26"
             ],
             [
              1,
              "#f0f921"
             ]
            ],
            "type": "histogram2dcontour"
           }
          ],
          "mesh3d": [
           {
            "colorbar": {
             "outlinewidth": 0,
             "ticks": ""
            },
            "type": "mesh3d"
           }
          ],
          "parcoords": [
           {
            "line": {
             "colorbar": {
              "outlinewidth": 0,
              "ticks": ""
             }
            },
            "type": "parcoords"
           }
          ],
          "pie": [
           {
            "automargin": true,
            "type": "pie"
           }
          ],
          "scatter": [
           {
            "fillpattern": {
             "fillmode": "overlay",
             "size": 10,
             "solidity": 0.2
            },
            "type": "scatter"
           }
          ],
          "scatter3d": [
           {
            "line": {
             "colorbar": {
              "outlinewidth": 0,
              "ticks": ""
             }
            },
            "marker": {
             "colorbar": {
              "outlinewidth": 0,
              "ticks": ""
             }
            },
            "type": "scatter3d"
           }
          ],
          "scattercarpet": [
           {
            "marker": {
             "colorbar": {
              "outlinewidth": 0,
              "ticks": ""
             }
            },
            "type": "scattercarpet"
           }
          ],
          "scattergeo": [
           {
            "marker": {
             "colorbar": {
              "outlinewidth": 0,
              "ticks": ""
             }
            },
            "type": "scattergeo"
           }
          ],
          "scattergl": [
           {
            "marker": {
             "colorbar": {
              "outlinewidth": 0,
              "ticks": ""
             }
            },
            "type": "scattergl"
           }
          ],
          "scattermapbox": [
           {
            "marker": {
             "colorbar": {
              "outlinewidth": 0,
              "ticks": ""
             }
            },
            "type": "scattermapbox"
           }
          ],
          "scatterpolar": [
           {
            "marker": {
             "colorbar": {
              "outlinewidth": 0,
              "ticks": ""
             }
            },
            "type": "scatterpolar"
           }
          ],
          "scatterpolargl": [
           {
            "marker": {
             "colorbar": {
              "outlinewidth": 0,
              "ticks": ""
             }
            },
            "type": "scatterpolargl"
           }
          ],
          "scatterternary": [
           {
            "marker": {
             "colorbar": {
              "outlinewidth": 0,
              "ticks": ""
             }
            },
            "type": "scatterternary"
           }
          ],
          "surface": [
           {
            "colorbar": {
             "outlinewidth": 0,
             "ticks": ""
            },
            "colorscale": [
             [
              0,
              "#0d0887"
             ],
             [
              0.1111111111111111,
              "#46039f"
             ],
             [
              0.2222222222222222,
              "#7201a8"
             ],
             [
              0.3333333333333333,
              "#9c179e"
             ],
             [
              0.4444444444444444,
              "#bd3786"
             ],
             [
              0.5555555555555556,
              "#d8576b"
             ],
             [
              0.6666666666666666,
              "#ed7953"
             ],
             [
              0.7777777777777778,
              "#fb9f3a"
             ],
             [
              0.8888888888888888,
              "#fdca26"
             ],
             [
              1,
              "#f0f921"
             ]
            ],
            "type": "surface"
           }
          ],
          "table": [
           {
            "cells": {
             "fill": {
              "color": "#EBF0F8"
             },
             "line": {
              "color": "white"
             }
            },
            "header": {
             "fill": {
              "color": "#C8D4E3"
             },
             "line": {
              "color": "white"
             }
            },
            "type": "table"
           }
          ]
         },
         "layout": {
          "annotationdefaults": {
           "arrowcolor": "#2a3f5f",
           "arrowhead": 0,
           "arrowwidth": 1
          },
          "autotypenumbers": "strict",
          "coloraxis": {
           "colorbar": {
            "outlinewidth": 0,
            "ticks": ""
           }
          },
          "colorscale": {
           "diverging": [
            [
             0,
             "#8e0152"
            ],
            [
             0.1,
             "#c51b7d"
            ],
            [
             0.2,
             "#de77ae"
            ],
            [
             0.3,
             "#f1b6da"
            ],
            [
             0.4,
             "#fde0ef"
            ],
            [
             0.5,
             "#f7f7f7"
            ],
            [
             0.6,
             "#e6f5d0"
            ],
            [
             0.7,
             "#b8e186"
            ],
            [
             0.8,
             "#7fbc41"
            ],
            [
             0.9,
             "#4d9221"
            ],
            [
             1,
             "#276419"
            ]
           ],
           "sequential": [
            [
             0,
             "#0d0887"
            ],
            [
             0.1111111111111111,
             "#46039f"
            ],
            [
             0.2222222222222222,
             "#7201a8"
            ],
            [
             0.3333333333333333,
             "#9c179e"
            ],
            [
             0.4444444444444444,
             "#bd3786"
            ],
            [
             0.5555555555555556,
             "#d8576b"
            ],
            [
             0.6666666666666666,
             "#ed7953"
            ],
            [
             0.7777777777777778,
             "#fb9f3a"
            ],
            [
             0.8888888888888888,
             "#fdca26"
            ],
            [
             1,
             "#f0f921"
            ]
           ],
           "sequentialminus": [
            [
             0,
             "#0d0887"
            ],
            [
             0.1111111111111111,
             "#46039f"
            ],
            [
             0.2222222222222222,
             "#7201a8"
            ],
            [
             0.3333333333333333,
             "#9c179e"
            ],
            [
             0.4444444444444444,
             "#bd3786"
            ],
            [
             0.5555555555555556,
             "#d8576b"
            ],
            [
             0.6666666666666666,
             "#ed7953"
            ],
            [
             0.7777777777777778,
             "#fb9f3a"
            ],
            [
             0.8888888888888888,
             "#fdca26"
            ],
            [
             1,
             "#f0f921"
            ]
           ]
          },
          "colorway": [
           "#636efa",
           "#EF553B",
           "#00cc96",
           "#ab63fa",
           "#FFA15A",
           "#19d3f3",
           "#FF6692",
           "#B6E880",
           "#FF97FF",
           "#FECB52"
          ],
          "font": {
           "color": "#2a3f5f"
          },
          "geo": {
           "bgcolor": "white",
           "lakecolor": "white",
           "landcolor": "#E5ECF6",
           "showlakes": true,
           "showland": true,
           "subunitcolor": "white"
          },
          "hoverlabel": {
           "align": "left"
          },
          "hovermode": "closest",
          "mapbox": {
           "style": "light"
          },
          "paper_bgcolor": "white",
          "plot_bgcolor": "#E5ECF6",
          "polar": {
           "angularaxis": {
            "gridcolor": "white",
            "linecolor": "white",
            "ticks": ""
           },
           "bgcolor": "#E5ECF6",
           "radialaxis": {
            "gridcolor": "white",
            "linecolor": "white",
            "ticks": ""
           }
          },
          "scene": {
           "xaxis": {
            "backgroundcolor": "#E5ECF6",
            "gridcolor": "white",
            "gridwidth": 2,
            "linecolor": "white",
            "showbackground": true,
            "ticks": "",
            "zerolinecolor": "white"
           },
           "yaxis": {
            "backgroundcolor": "#E5ECF6",
            "gridcolor": "white",
            "gridwidth": 2,
            "linecolor": "white",
            "showbackground": true,
            "ticks": "",
            "zerolinecolor": "white"
           },
           "zaxis": {
            "backgroundcolor": "#E5ECF6",
            "gridcolor": "white",
            "gridwidth": 2,
            "linecolor": "white",
            "showbackground": true,
            "ticks": "",
            "zerolinecolor": "white"
           }
          },
          "shapedefaults": {
           "line": {
            "color": "#2a3f5f"
           }
          },
          "ternary": {
           "aaxis": {
            "gridcolor": "white",
            "linecolor": "white",
            "ticks": ""
           },
           "baxis": {
            "gridcolor": "white",
            "linecolor": "white",
            "ticks": ""
           },
           "bgcolor": "#E5ECF6",
           "caxis": {
            "gridcolor": "white",
            "linecolor": "white",
            "ticks": ""
           }
          },
          "title": {
           "x": 0.05
          },
          "xaxis": {
           "automargin": true,
           "gridcolor": "white",
           "linecolor": "white",
           "ticks": "",
           "title": {
            "standoff": 15
           },
           "zerolinecolor": "white",
           "zerolinewidth": 2
          },
          "yaxis": {
           "automargin": true,
           "gridcolor": "white",
           "linecolor": "white",
           "ticks": "",
           "title": {
            "standoff": 15
           },
           "zerolinecolor": "white",
           "zerolinewidth": 2
          }
         }
        },
        "xaxis": {
         "anchor": "y",
         "domain": [
          0,
          1
         ],
         "title": {
          "text": "model/embed"
         }
        },
        "yaxis": {
         "anchor": "x",
         "domain": [
          0,
          1
         ],
         "title": {
          "text": "value"
         }
        }
       }
      }
     },
     "metadata": {},
     "output_type": "display_data"
    }
   ],
   "source": [
    "px.bar(model_embed, x='model/embed', y=['Query Time (s)'], hover_data={'Vector DB': True})\n"
   ]
  },
  {
   "cell_type": "code",
   "execution_count": 64,
   "metadata": {},
   "outputs": [
    {
     "data": {
      "application/vnd.plotly.v1+json": {
       "config": {
        "plotlyServerURL": "https://plot.ly"
       },
       "data": [
        {
         "alignmentgroup": "True",
         "customdata": [
          [
           "chroma"
          ],
          [
           "qdrant"
          ],
          [
           "redis"
          ],
          [
           "chroma"
          ],
          [
           "qdrant"
          ],
          [
           "redis"
          ],
          [
           "chroma"
          ],
          [
           "qdrant"
          ],
          [
           "redis"
          ],
          [
           "chroma"
          ],
          [
           "qdrant"
          ],
          [
           "redis"
          ],
          [
           "chroma"
          ],
          [
           "qdrant"
          ],
          [
           "redis"
          ],
          [
           "chroma"
          ],
          [
           "qdrant"
          ],
          [
           "redis"
          ]
         ],
         "hovertemplate": "variable=Memory Used<br>model/embed=%{x}<br>value=%{y}<br>Vector DB=%{customdata[0]}<extra></extra>",
         "legendgroup": "Memory Used",
         "marker": {
          "color": "#636efa",
          "pattern": {
           "shape": ""
          }
         },
         "name": "Memory Used",
         "offsetgroup": "Memory Used",
         "orientation": "v",
         "showlegend": true,
         "textposition": "auto",
         "type": "bar",
         "x": [
          "llama2, nomic-embed-text",
          "llama2, nomic-embed-text",
          "llama2, nomic-embed-text",
          "llama2, sentence-transformers/all-MiniLM-L6-v2",
          "llama2, sentence-transformers/all-MiniLM-L6-v2",
          "llama2, sentence-transformers/all-MiniLM-L6-v2",
          "llama2, sentence-transformers/all-mpnet-base-v2",
          "llama2, sentence-transformers/all-mpnet-base-v2",
          "llama2, sentence-transformers/all-mpnet-base-v2",
          "mistral, nomic-embed-text",
          "mistral, nomic-embed-text",
          "mistral, nomic-embed-text",
          "mistral, sentence-transformers/all-MiniLM-L6-v2",
          "mistral, sentence-transformers/all-MiniLM-L6-v2",
          "mistral, sentence-transformers/all-MiniLM-L6-v2",
          "mistral, sentence-transformers/all-mpnet-base-v2",
          "mistral, sentence-transformers/all-mpnet-base-v2",
          "mistral, sentence-transformers/all-mpnet-base-v2"
         ],
         "xaxis": "x",
         "y": [
          282355.5,
          258100.75,
          217674.25,
          5816016.25,
          5819989,
          5831063,
          6059736,
          6052878.5,
          6055024.5,
          275575,
          244038.25,
          210003,
          5820668,
          5822273.75,
          5822940,
          6059737.5,
          6052069.75,
          6054162
         ],
         "yaxis": "y"
        }
       ],
       "layout": {
        "barmode": "relative",
        "legend": {
         "title": {
          "text": "variable"
         },
         "tracegroupgap": 0
        },
        "margin": {
         "t": 60
        },
        "template": {
         "data": {
          "bar": [
           {
            "error_x": {
             "color": "#2a3f5f"
            },
            "error_y": {
             "color": "#2a3f5f"
            },
            "marker": {
             "line": {
              "color": "#E5ECF6",
              "width": 0.5
             },
             "pattern": {
              "fillmode": "overlay",
              "size": 10,
              "solidity": 0.2
             }
            },
            "type": "bar"
           }
          ],
          "barpolar": [
           {
            "marker": {
             "line": {
              "color": "#E5ECF6",
              "width": 0.5
             },
             "pattern": {
              "fillmode": "overlay",
              "size": 10,
              "solidity": 0.2
             }
            },
            "type": "barpolar"
           }
          ],
          "carpet": [
           {
            "aaxis": {
             "endlinecolor": "#2a3f5f",
             "gridcolor": "white",
             "linecolor": "white",
             "minorgridcolor": "white",
             "startlinecolor": "#2a3f5f"
            },
            "baxis": {
             "endlinecolor": "#2a3f5f",
             "gridcolor": "white",
             "linecolor": "white",
             "minorgridcolor": "white",
             "startlinecolor": "#2a3f5f"
            },
            "type": "carpet"
           }
          ],
          "choropleth": [
           {
            "colorbar": {
             "outlinewidth": 0,
             "ticks": ""
            },
            "type": "choropleth"
           }
          ],
          "contour": [
           {
            "colorbar": {
             "outlinewidth": 0,
             "ticks": ""
            },
            "colorscale": [
             [
              0,
              "#0d0887"
             ],
             [
              0.1111111111111111,
              "#46039f"
             ],
             [
              0.2222222222222222,
              "#7201a8"
             ],
             [
              0.3333333333333333,
              "#9c179e"
             ],
             [
              0.4444444444444444,
              "#bd3786"
             ],
             [
              0.5555555555555556,
              "#d8576b"
             ],
             [
              0.6666666666666666,
              "#ed7953"
             ],
             [
              0.7777777777777778,
              "#fb9f3a"
             ],
             [
              0.8888888888888888,
              "#fdca26"
             ],
             [
              1,
              "#f0f921"
             ]
            ],
            "type": "contour"
           }
          ],
          "contourcarpet": [
           {
            "colorbar": {
             "outlinewidth": 0,
             "ticks": ""
            },
            "type": "contourcarpet"
           }
          ],
          "heatmap": [
           {
            "colorbar": {
             "outlinewidth": 0,
             "ticks": ""
            },
            "colorscale": [
             [
              0,
              "#0d0887"
             ],
             [
              0.1111111111111111,
              "#46039f"
             ],
             [
              0.2222222222222222,
              "#7201a8"
             ],
             [
              0.3333333333333333,
              "#9c179e"
             ],
             [
              0.4444444444444444,
              "#bd3786"
             ],
             [
              0.5555555555555556,
              "#d8576b"
             ],
             [
              0.6666666666666666,
              "#ed7953"
             ],
             [
              0.7777777777777778,
              "#fb9f3a"
             ],
             [
              0.8888888888888888,
              "#fdca26"
             ],
             [
              1,
              "#f0f921"
             ]
            ],
            "type": "heatmap"
           }
          ],
          "heatmapgl": [
           {
            "colorbar": {
             "outlinewidth": 0,
             "ticks": ""
            },
            "colorscale": [
             [
              0,
              "#0d0887"
             ],
             [
              0.1111111111111111,
              "#46039f"
             ],
             [
              0.2222222222222222,
              "#7201a8"
             ],
             [
              0.3333333333333333,
              "#9c179e"
             ],
             [
              0.4444444444444444,
              "#bd3786"
             ],
             [
              0.5555555555555556,
              "#d8576b"
             ],
             [
              0.6666666666666666,
              "#ed7953"
             ],
             [
              0.7777777777777778,
              "#fb9f3a"
             ],
             [
              0.8888888888888888,
              "#fdca26"
             ],
             [
              1,
              "#f0f921"
             ]
            ],
            "type": "heatmapgl"
           }
          ],
          "histogram": [
           {
            "marker": {
             "pattern": {
              "fillmode": "overlay",
              "size": 10,
              "solidity": 0.2
             }
            },
            "type": "histogram"
           }
          ],
          "histogram2d": [
           {
            "colorbar": {
             "outlinewidth": 0,
             "ticks": ""
            },
            "colorscale": [
             [
              0,
              "#0d0887"
             ],
             [
              0.1111111111111111,
              "#46039f"
             ],
             [
              0.2222222222222222,
              "#7201a8"
             ],
             [
              0.3333333333333333,
              "#9c179e"
             ],
             [
              0.4444444444444444,
              "#bd3786"
             ],
             [
              0.5555555555555556,
              "#d8576b"
             ],
             [
              0.6666666666666666,
              "#ed7953"
             ],
             [
              0.7777777777777778,
              "#fb9f3a"
             ],
             [
              0.8888888888888888,
              "#fdca26"
             ],
             [
              1,
              "#f0f921"
             ]
            ],
            "type": "histogram2d"
           }
          ],
          "histogram2dcontour": [
           {
            "colorbar": {
             "outlinewidth": 0,
             "ticks": ""
            },
            "colorscale": [
             [
              0,
              "#0d0887"
             ],
             [
              0.1111111111111111,
              "#46039f"
             ],
             [
              0.2222222222222222,
              "#7201a8"
             ],
             [
              0.3333333333333333,
              "#9c179e"
             ],
             [
              0.4444444444444444,
              "#bd3786"
             ],
             [
              0.5555555555555556,
              "#d8576b"
             ],
             [
              0.6666666666666666,
              "#ed7953"
             ],
             [
              0.7777777777777778,
              "#fb9f3a"
             ],
             [
              0.8888888888888888,
              "#fdca26"
             ],
             [
              1,
              "#f0f921"
             ]
            ],
            "type": "histogram2dcontour"
           }
          ],
          "mesh3d": [
           {
            "colorbar": {
             "outlinewidth": 0,
             "ticks": ""
            },
            "type": "mesh3d"
           }
          ],
          "parcoords": [
           {
            "line": {
             "colorbar": {
              "outlinewidth": 0,
              "ticks": ""
             }
            },
            "type": "parcoords"
           }
          ],
          "pie": [
           {
            "automargin": true,
            "type": "pie"
           }
          ],
          "scatter": [
           {
            "fillpattern": {
             "fillmode": "overlay",
             "size": 10,
             "solidity": 0.2
            },
            "type": "scatter"
           }
          ],
          "scatter3d": [
           {
            "line": {
             "colorbar": {
              "outlinewidth": 0,
              "ticks": ""
             }
            },
            "marker": {
             "colorbar": {
              "outlinewidth": 0,
              "ticks": ""
             }
            },
            "type": "scatter3d"
           }
          ],
          "scattercarpet": [
           {
            "marker": {
             "colorbar": {
              "outlinewidth": 0,
              "ticks": ""
             }
            },
            "type": "scattercarpet"
           }
          ],
          "scattergeo": [
           {
            "marker": {
             "colorbar": {
              "outlinewidth": 0,
              "ticks": ""
             }
            },
            "type": "scattergeo"
           }
          ],
          "scattergl": [
           {
            "marker": {
             "colorbar": {
              "outlinewidth": 0,
              "ticks": ""
             }
            },
            "type": "scattergl"
           }
          ],
          "scattermapbox": [
           {
            "marker": {
             "colorbar": {
              "outlinewidth": 0,
              "ticks": ""
             }
            },
            "type": "scattermapbox"
           }
          ],
          "scatterpolar": [
           {
            "marker": {
             "colorbar": {
              "outlinewidth": 0,
              "ticks": ""
             }
            },
            "type": "scatterpolar"
           }
          ],
          "scatterpolargl": [
           {
            "marker": {
             "colorbar": {
              "outlinewidth": 0,
              "ticks": ""
             }
            },
            "type": "scatterpolargl"
           }
          ],
          "scatterternary": [
           {
            "marker": {
             "colorbar": {
              "outlinewidth": 0,
              "ticks": ""
             }
            },
            "type": "scatterternary"
           }
          ],
          "surface": [
           {
            "colorbar": {
             "outlinewidth": 0,
             "ticks": ""
            },
            "colorscale": [
             [
              0,
              "#0d0887"
             ],
             [
              0.1111111111111111,
              "#46039f"
             ],
             [
              0.2222222222222222,
              "#7201a8"
             ],
             [
              0.3333333333333333,
              "#9c179e"
             ],
             [
              0.4444444444444444,
              "#bd3786"
             ],
             [
              0.5555555555555556,
              "#d8576b"
             ],
             [
              0.6666666666666666,
              "#ed7953"
             ],
             [
              0.7777777777777778,
              "#fb9f3a"
             ],
             [
              0.8888888888888888,
              "#fdca26"
             ],
             [
              1,
              "#f0f921"
             ]
            ],
            "type": "surface"
           }
          ],
          "table": [
           {
            "cells": {
             "fill": {
              "color": "#EBF0F8"
             },
             "line": {
              "color": "white"
             }
            },
            "header": {
             "fill": {
              "color": "#C8D4E3"
             },
             "line": {
              "color": "white"
             }
            },
            "type": "table"
           }
          ]
         },
         "layout": {
          "annotationdefaults": {
           "arrowcolor": "#2a3f5f",
           "arrowhead": 0,
           "arrowwidth": 1
          },
          "autotypenumbers": "strict",
          "coloraxis": {
           "colorbar": {
            "outlinewidth": 0,
            "ticks": ""
           }
          },
          "colorscale": {
           "diverging": [
            [
             0,
             "#8e0152"
            ],
            [
             0.1,
             "#c51b7d"
            ],
            [
             0.2,
             "#de77ae"
            ],
            [
             0.3,
             "#f1b6da"
            ],
            [
             0.4,
             "#fde0ef"
            ],
            [
             0.5,
             "#f7f7f7"
            ],
            [
             0.6,
             "#e6f5d0"
            ],
            [
             0.7,
             "#b8e186"
            ],
            [
             0.8,
             "#7fbc41"
            ],
            [
             0.9,
             "#4d9221"
            ],
            [
             1,
             "#276419"
            ]
           ],
           "sequential": [
            [
             0,
             "#0d0887"
            ],
            [
             0.1111111111111111,
             "#46039f"
            ],
            [
             0.2222222222222222,
             "#7201a8"
            ],
            [
             0.3333333333333333,
             "#9c179e"
            ],
            [
             0.4444444444444444,
             "#bd3786"
            ],
            [
             0.5555555555555556,
             "#d8576b"
            ],
            [
             0.6666666666666666,
             "#ed7953"
            ],
            [
             0.7777777777777778,
             "#fb9f3a"
            ],
            [
             0.8888888888888888,
             "#fdca26"
            ],
            [
             1,
             "#f0f921"
            ]
           ],
           "sequentialminus": [
            [
             0,
             "#0d0887"
            ],
            [
             0.1111111111111111,
             "#46039f"
            ],
            [
             0.2222222222222222,
             "#7201a8"
            ],
            [
             0.3333333333333333,
             "#9c179e"
            ],
            [
             0.4444444444444444,
             "#bd3786"
            ],
            [
             0.5555555555555556,
             "#d8576b"
            ],
            [
             0.6666666666666666,
             "#ed7953"
            ],
            [
             0.7777777777777778,
             "#fb9f3a"
            ],
            [
             0.8888888888888888,
             "#fdca26"
            ],
            [
             1,
             "#f0f921"
            ]
           ]
          },
          "colorway": [
           "#636efa",
           "#EF553B",
           "#00cc96",
           "#ab63fa",
           "#FFA15A",
           "#19d3f3",
           "#FF6692",
           "#B6E880",
           "#FF97FF",
           "#FECB52"
          ],
          "font": {
           "color": "#2a3f5f"
          },
          "geo": {
           "bgcolor": "white",
           "lakecolor": "white",
           "landcolor": "#E5ECF6",
           "showlakes": true,
           "showland": true,
           "subunitcolor": "white"
          },
          "hoverlabel": {
           "align": "left"
          },
          "hovermode": "closest",
          "mapbox": {
           "style": "light"
          },
          "paper_bgcolor": "white",
          "plot_bgcolor": "#E5ECF6",
          "polar": {
           "angularaxis": {
            "gridcolor": "white",
            "linecolor": "white",
            "ticks": ""
           },
           "bgcolor": "#E5ECF6",
           "radialaxis": {
            "gridcolor": "white",
            "linecolor": "white",
            "ticks": ""
           }
          },
          "scene": {
           "xaxis": {
            "backgroundcolor": "#E5ECF6",
            "gridcolor": "white",
            "gridwidth": 2,
            "linecolor": "white",
            "showbackground": true,
            "ticks": "",
            "zerolinecolor": "white"
           },
           "yaxis": {
            "backgroundcolor": "#E5ECF6",
            "gridcolor": "white",
            "gridwidth": 2,
            "linecolor": "white",
            "showbackground": true,
            "ticks": "",
            "zerolinecolor": "white"
           },
           "zaxis": {
            "backgroundcolor": "#E5ECF6",
            "gridcolor": "white",
            "gridwidth": 2,
            "linecolor": "white",
            "showbackground": true,
            "ticks": "",
            "zerolinecolor": "white"
           }
          },
          "shapedefaults": {
           "line": {
            "color": "#2a3f5f"
           }
          },
          "ternary": {
           "aaxis": {
            "gridcolor": "white",
            "linecolor": "white",
            "ticks": ""
           },
           "baxis": {
            "gridcolor": "white",
            "linecolor": "white",
            "ticks": ""
           },
           "bgcolor": "#E5ECF6",
           "caxis": {
            "gridcolor": "white",
            "linecolor": "white",
            "ticks": ""
           }
          },
          "title": {
           "x": 0.05
          },
          "xaxis": {
           "automargin": true,
           "gridcolor": "white",
           "linecolor": "white",
           "ticks": "",
           "title": {
            "standoff": 15
           },
           "zerolinecolor": "white",
           "zerolinewidth": 2
          },
          "yaxis": {
           "automargin": true,
           "gridcolor": "white",
           "linecolor": "white",
           "ticks": "",
           "title": {
            "standoff": 15
           },
           "zerolinecolor": "white",
           "zerolinewidth": 2
          }
         }
        },
        "xaxis": {
         "anchor": "y",
         "domain": [
          0,
          1
         ],
         "title": {
          "text": "model/embed"
         }
        },
        "yaxis": {
         "anchor": "x",
         "domain": [
          0,
          1
         ],
         "title": {
          "text": "value"
         }
        }
       }
      }
     },
     "metadata": {},
     "output_type": "display_data"
    }
   ],
   "source": [
    "px.bar(model_embed, x='model/embed', y=['Memory Used'], hover_data={'Vector DB': True})"
   ]
  },
  {
   "cell_type": "code",
   "execution_count": 88,
   "metadata": {},
   "outputs": [
    {
     "data": {
      "text/html": [
       "<div>\n",
       "<style scoped>\n",
       "    .dataframe tbody tr th:only-of-type {\n",
       "        vertical-align: middle;\n",
       "    }\n",
       "\n",
       "    .dataframe tbody tr th {\n",
       "        vertical-align: top;\n",
       "    }\n",
       "\n",
       "    .dataframe thead th {\n",
       "        text-align: right;\n",
       "    }\n",
       "</style>\n",
       "<table border=\"1\" class=\"dataframe\">\n",
       "  <thead>\n",
       "    <tr style=\"text-align: right;\">\n",
       "      <th></th>\n",
       "      <th>LLM Model</th>\n",
       "      <th>Embedding Model</th>\n",
       "      <th>Vector DB</th>\n",
       "      <th>Memory Used</th>\n",
       "      <th>Query Time (s)</th>\n",
       "      <th>LLM Response</th>\n",
       "      <th>model/embed</th>\n",
       "    </tr>\n",
       "  </thead>\n",
       "  <tbody>\n",
       "    <tr>\n",
       "      <th>0</th>\n",
       "      <td>llama2</td>\n",
       "      <td>nomic-embed-text</td>\n",
       "      <td>redis</td>\n",
       "      <td>217674.25</td>\n",
       "      <td>188.467097</td>\n",
       "      <td>[role='assistant' content='Redis (short for RE...</td>\n",
       "      <td>llama2, nomic-embed-text</td>\n",
       "    </tr>\n",
       "    <tr>\n",
       "      <th>1</th>\n",
       "      <td>llama2</td>\n",
       "      <td>sentence-transformers/all-MiniLM-L6-v2</td>\n",
       "      <td>redis</td>\n",
       "      <td>5831063.00</td>\n",
       "      <td>194.691511</td>\n",
       "      <td>[role='assistant' content='\\nRedis is an in-me...</td>\n",
       "      <td>llama2, sentence-transformers/all-MiniLM-L6-v2</td>\n",
       "    </tr>\n",
       "    <tr>\n",
       "      <th>2</th>\n",
       "      <td>llama2</td>\n",
       "      <td>sentence-transformers/all-mpnet-base-v2</td>\n",
       "      <td>redis</td>\n",
       "      <td>6055024.50</td>\n",
       "      <td>209.413400</td>\n",
       "      <td>[role='assistant' content='\\nRedis (Random Acc...</td>\n",
       "      <td>llama2, sentence-transformers/all-mpnet-base-v2</td>\n",
       "    </tr>\n",
       "    <tr>\n",
       "      <th>3</th>\n",
       "      <td>mistral</td>\n",
       "      <td>nomic-embed-text</td>\n",
       "      <td>redis</td>\n",
       "      <td>210003.00</td>\n",
       "      <td>143.434000</td>\n",
       "      <td>[role='assistant' content=' Redis (pronounced ...</td>\n",
       "      <td>mistral, nomic-embed-text</td>\n",
       "    </tr>\n",
       "    <tr>\n",
       "      <th>4</th>\n",
       "      <td>mistral</td>\n",
       "      <td>sentence-transformers/all-MiniLM-L6-v2</td>\n",
       "      <td>redis</td>\n",
       "      <td>5822940.00</td>\n",
       "      <td>164.645111</td>\n",
       "      <td>[role='assistant' content=' Redis (REmote DIct...</td>\n",
       "      <td>mistral, sentence-transformers/all-MiniLM-L6-v2</td>\n",
       "    </tr>\n",
       "  </tbody>\n",
       "</table>\n",
       "</div>"
      ],
      "text/plain": [
       "  LLM Model                          Embedding Model Vector DB  Memory Used  \\\n",
       "0    llama2                         nomic-embed-text     redis    217674.25   \n",
       "1    llama2   sentence-transformers/all-MiniLM-L6-v2     redis   5831063.00   \n",
       "2    llama2  sentence-transformers/all-mpnet-base-v2     redis   6055024.50   \n",
       "3   mistral                         nomic-embed-text     redis    210003.00   \n",
       "4   mistral   sentence-transformers/all-MiniLM-L6-v2     redis   5822940.00   \n",
       "\n",
       "   Query Time (s)                                       LLM Response  \\\n",
       "0      188.467097  [role='assistant' content='Redis (short for RE...   \n",
       "1      194.691511  [role='assistant' content='\\nRedis is an in-me...   \n",
       "2      209.413400  [role='assistant' content='\\nRedis (Random Acc...   \n",
       "3      143.434000  [role='assistant' content=' Redis (pronounced ...   \n",
       "4      164.645111  [role='assistant' content=' Redis (REmote DIct...   \n",
       "\n",
       "                                       model/embed  \n",
       "0                         llama2, nomic-embed-text  \n",
       "1   llama2, sentence-transformers/all-MiniLM-L6-v2  \n",
       "2  llama2, sentence-transformers/all-mpnet-base-v2  \n",
       "3                        mistral, nomic-embed-text  \n",
       "4  mistral, sentence-transformers/all-MiniLM-L6-v2  "
      ]
     },
     "execution_count": 88,
     "metadata": {},
     "output_type": "execute_result"
    }
   ],
   "source": [
    "redis_embed = redis_df.groupby(['LLM Model', 'Embedding Model', 'Vector DB']).agg({\n",
    "    'Memory Used': 'mean',\n",
    "    'Query Time (s)': 'mean',\n",
    "    'LLM Response': lambda x: list(x) if isinstance(x.iloc[0], list) else list(x) \n",
    "}).reset_index()\n",
    "redis_embed['model/embed'] = redis_embed.apply(lambda row: row['LLM Model'] +', ' + row['Embedding Model'], axis=1)\n",
    "redis_embed.head()"
   ]
  },
  {
   "cell_type": "code",
   "execution_count": 103,
   "metadata": {},
   "outputs": [
    {
     "data": {
      "text/html": [
       "<div>\n",
       "<style scoped>\n",
       "    .dataframe tbody tr th:only-of-type {\n",
       "        vertical-align: middle;\n",
       "    }\n",
       "\n",
       "    .dataframe tbody tr th {\n",
       "        vertical-align: top;\n",
       "    }\n",
       "\n",
       "    .dataframe thead th {\n",
       "        text-align: right;\n",
       "    }\n",
       "</style>\n",
       "<table border=\"1\" class=\"dataframe\">\n",
       "  <thead>\n",
       "    <tr style=\"text-align: right;\">\n",
       "      <th></th>\n",
       "      <th>LLM Model</th>\n",
       "      <th>Embedding Model</th>\n",
       "      <th>Vector DB</th>\n",
       "      <th>Memory Used</th>\n",
       "      <th>Query Time (s)</th>\n",
       "      <th>LLM Response</th>\n",
       "      <th>model/embed</th>\n",
       "    </tr>\n",
       "  </thead>\n",
       "  <tbody>\n",
       "    <tr>\n",
       "      <th>0</th>\n",
       "      <td>llama2</td>\n",
       "      <td>nomic-embed-text</td>\n",
       "      <td>qdrant</td>\n",
       "      <td>258100.75</td>\n",
       "      <td>166.988926</td>\n",
       "      <td>[role='assistant' content='Redis (Redis Is Not...</td>\n",
       "      <td>llama2, nomic-embed-text</td>\n",
       "    </tr>\n",
       "    <tr>\n",
       "      <th>1</th>\n",
       "      <td>llama2</td>\n",
       "      <td>sentence-transformers/all-MiniLM-L6-v2</td>\n",
       "      <td>qdrant</td>\n",
       "      <td>5819989.00</td>\n",
       "      <td>429.579211</td>\n",
       "      <td>[role='assistant' content='Redis (REStore Dict...</td>\n",
       "      <td>llama2, sentence-transformers/all-MiniLM-L6-v2</td>\n",
       "    </tr>\n",
       "    <tr>\n",
       "      <th>2</th>\n",
       "      <td>llama2</td>\n",
       "      <td>sentence-transformers/all-mpnet-base-v2</td>\n",
       "      <td>qdrant</td>\n",
       "      <td>6052878.50</td>\n",
       "      <td>172.226658</td>\n",
       "      <td>[role='assistant' content='\\nRedis (Remote Dic...</td>\n",
       "      <td>llama2, sentence-transformers/all-mpnet-base-v2</td>\n",
       "    </tr>\n",
       "    <tr>\n",
       "      <th>3</th>\n",
       "      <td>mistral</td>\n",
       "      <td>nomic-embed-text</td>\n",
       "      <td>qdrant</td>\n",
       "      <td>244038.25</td>\n",
       "      <td>94.599159</td>\n",
       "      <td>[role='assistant' content=\" Redis (REmote DIct...</td>\n",
       "      <td>mistral, nomic-embed-text</td>\n",
       "    </tr>\n",
       "    <tr>\n",
       "      <th>4</th>\n",
       "      <td>mistral</td>\n",
       "      <td>sentence-transformers/all-MiniLM-L6-v2</td>\n",
       "      <td>qdrant</td>\n",
       "      <td>5822273.75</td>\n",
       "      <td>97.121053</td>\n",
       "      <td>[role='assistant' content=\" Redis (Remoted Dat...</td>\n",
       "      <td>mistral, sentence-transformers/all-MiniLM-L6-v2</td>\n",
       "    </tr>\n",
       "  </tbody>\n",
       "</table>\n",
       "</div>"
      ],
      "text/plain": [
       "  LLM Model                          Embedding Model Vector DB  Memory Used  \\\n",
       "0    llama2                         nomic-embed-text    qdrant    258100.75   \n",
       "1    llama2   sentence-transformers/all-MiniLM-L6-v2    qdrant   5819989.00   \n",
       "2    llama2  sentence-transformers/all-mpnet-base-v2    qdrant   6052878.50   \n",
       "3   mistral                         nomic-embed-text    qdrant    244038.25   \n",
       "4   mistral   sentence-transformers/all-MiniLM-L6-v2    qdrant   5822273.75   \n",
       "\n",
       "   Query Time (s)                                       LLM Response  \\\n",
       "0      166.988926  [role='assistant' content='Redis (Redis Is Not...   \n",
       "1      429.579211  [role='assistant' content='Redis (REStore Dict...   \n",
       "2      172.226658  [role='assistant' content='\\nRedis (Remote Dic...   \n",
       "3       94.599159  [role='assistant' content=\" Redis (REmote DIct...   \n",
       "4       97.121053  [role='assistant' content=\" Redis (Remoted Dat...   \n",
       "\n",
       "                                       model/embed  \n",
       "0                         llama2, nomic-embed-text  \n",
       "1   llama2, sentence-transformers/all-MiniLM-L6-v2  \n",
       "2  llama2, sentence-transformers/all-mpnet-base-v2  \n",
       "3                        mistral, nomic-embed-text  \n",
       "4  mistral, sentence-transformers/all-MiniLM-L6-v2  "
      ]
     },
     "execution_count": 103,
     "metadata": {},
     "output_type": "execute_result"
    }
   ],
   "source": [
    "qdrant_embed = qdrant_df.groupby(['LLM Model', 'Embedding Model', 'Vector DB']).agg({\n",
    "    'Memory Used': 'mean',\n",
    "    'Query Time (s)': 'mean',\n",
    "    'LLM Response': lambda x: list(x) if isinstance(x.iloc[0], list) else list(x) \n",
    "}).reset_index()\n",
    "qdrant_embed['model/embed'] = qdrant_embed.apply(lambda row: row['LLM Model'] +', ' + row['Embedding Model'], axis=1)\n",
    "qdrant_embed.head()"
   ]
  },
  {
   "cell_type": "code",
   "execution_count": 104,
   "metadata": {},
   "outputs": [
    {
     "data": {
      "text/html": [
       "<div>\n",
       "<style scoped>\n",
       "    .dataframe tbody tr th:only-of-type {\n",
       "        vertical-align: middle;\n",
       "    }\n",
       "\n",
       "    .dataframe tbody tr th {\n",
       "        vertical-align: top;\n",
       "    }\n",
       "\n",
       "    .dataframe thead th {\n",
       "        text-align: right;\n",
       "    }\n",
       "</style>\n",
       "<table border=\"1\" class=\"dataframe\">\n",
       "  <thead>\n",
       "    <tr style=\"text-align: right;\">\n",
       "      <th></th>\n",
       "      <th>LLM Model</th>\n",
       "      <th>Embedding Model</th>\n",
       "      <th>Vector DB</th>\n",
       "      <th>Memory Used</th>\n",
       "      <th>Query Time (s)</th>\n",
       "      <th>LLM Response</th>\n",
       "      <th>model/embed</th>\n",
       "    </tr>\n",
       "  </thead>\n",
       "  <tbody>\n",
       "    <tr>\n",
       "      <th>0</th>\n",
       "      <td>llama2</td>\n",
       "      <td>nomic-embed-text</td>\n",
       "      <td>chroma</td>\n",
       "      <td>282355.50</td>\n",
       "      <td>131.552573</td>\n",
       "      <td>[role='assistant' content=\"Redis is an in-memo...</td>\n",
       "      <td>llama2, nomic-embed-text</td>\n",
       "    </tr>\n",
       "    <tr>\n",
       "      <th>1</th>\n",
       "      <td>llama2</td>\n",
       "      <td>sentence-transformers/all-MiniLM-L6-v2</td>\n",
       "      <td>chroma</td>\n",
       "      <td>5816016.25</td>\n",
       "      <td>84.270588</td>\n",
       "      <td>[role='assistant' content='Redis is an in-memo...</td>\n",
       "      <td>llama2, sentence-transformers/all-MiniLM-L6-v2</td>\n",
       "    </tr>\n",
       "    <tr>\n",
       "      <th>2</th>\n",
       "      <td>llama2</td>\n",
       "      <td>sentence-transformers/all-mpnet-base-v2</td>\n",
       "      <td>chroma</td>\n",
       "      <td>6059736.00</td>\n",
       "      <td>99.819955</td>\n",
       "      <td>[role='assistant' content='Redis (Random Acces...</td>\n",
       "      <td>llama2, sentence-transformers/all-mpnet-base-v2</td>\n",
       "    </tr>\n",
       "    <tr>\n",
       "      <th>3</th>\n",
       "      <td>mistral</td>\n",
       "      <td>nomic-embed-text</td>\n",
       "      <td>chroma</td>\n",
       "      <td>275575.00</td>\n",
       "      <td>72.889047</td>\n",
       "      <td>[role='assistant' content=' Redis (pronounced ...</td>\n",
       "      <td>mistral, nomic-embed-text</td>\n",
       "    </tr>\n",
       "    <tr>\n",
       "      <th>4</th>\n",
       "      <td>mistral</td>\n",
       "      <td>sentence-transformers/all-MiniLM-L6-v2</td>\n",
       "      <td>chroma</td>\n",
       "      <td>5820668.00</td>\n",
       "      <td>70.269724</td>\n",
       "      <td>[role='assistant' content=\" Redis (REmote Dict...</td>\n",
       "      <td>mistral, sentence-transformers/all-MiniLM-L6-v2</td>\n",
       "    </tr>\n",
       "  </tbody>\n",
       "</table>\n",
       "</div>"
      ],
      "text/plain": [
       "  LLM Model                          Embedding Model Vector DB  Memory Used  \\\n",
       "0    llama2                         nomic-embed-text    chroma    282355.50   \n",
       "1    llama2   sentence-transformers/all-MiniLM-L6-v2    chroma   5816016.25   \n",
       "2    llama2  sentence-transformers/all-mpnet-base-v2    chroma   6059736.00   \n",
       "3   mistral                         nomic-embed-text    chroma    275575.00   \n",
       "4   mistral   sentence-transformers/all-MiniLM-L6-v2    chroma   5820668.00   \n",
       "\n",
       "   Query Time (s)                                       LLM Response  \\\n",
       "0      131.552573  [role='assistant' content=\"Redis is an in-memo...   \n",
       "1       84.270588  [role='assistant' content='Redis is an in-memo...   \n",
       "2       99.819955  [role='assistant' content='Redis (Random Acces...   \n",
       "3       72.889047  [role='assistant' content=' Redis (pronounced ...   \n",
       "4       70.269724  [role='assistant' content=\" Redis (REmote Dict...   \n",
       "\n",
       "                                       model/embed  \n",
       "0                         llama2, nomic-embed-text  \n",
       "1   llama2, sentence-transformers/all-MiniLM-L6-v2  \n",
       "2  llama2, sentence-transformers/all-mpnet-base-v2  \n",
       "3                        mistral, nomic-embed-text  \n",
       "4  mistral, sentence-transformers/all-MiniLM-L6-v2  "
      ]
     },
     "execution_count": 104,
     "metadata": {},
     "output_type": "execute_result"
    }
   ],
   "source": [
    "chroma_embed = chroma_df.groupby(['LLM Model', 'Embedding Model', 'Vector DB']).agg({\n",
    "    'Memory Used': 'mean',\n",
    "    'Query Time (s)': 'mean',\n",
    "    'LLM Response': lambda x: list(x) if isinstance(x.iloc[0], list) else list(x) \n",
    "}).reset_index()\n",
    "chroma_embed['model/embed'] = chroma_embed.apply(lambda row: row['LLM Model'] +', ' + row['Embedding Model'], axis=1)\n",
    "chroma_embed.head()"
   ]
  },
  {
   "cell_type": "code",
   "execution_count": 102,
   "metadata": {},
   "outputs": [
    {
     "name": "stdout",
     "output_type": "stream",
     "text": [
      "llama2, nomic-embed-text\n",
      "role='assistant' content='Redis (short for READ-INE) is an in-memory data store that can be used as a database, message broker, or cache. It is designed to provide high-performance, low-latency storage and retrieval of small pieces of data, such as keys, values, strings, hashes, sets, lists, and more.\\n\\nRedis was created by the Redis Labs company and is widely used in web applications, particularly for caching and session management. It supports a variety of programming languages and can be easily integrated into existing software systems.\\n\\nRedis has several features that make it popular among developers:\\n\\n1. In-memory storage: Redis stores data in the main memory (RAM) instead of on disk, which results in faster access times compared to traditional disk-based databases.\\n2. High throughput: Redis is designed for high-throughput applications and can handle millions of requests per second.\\n3. Low latency: Redis is optimized for low-latency operations, making it suitable for real-time data processing and event-driven architectures.\\n4. Distributed architecture: Redis can be deployed across multiple machines to scale horizontally and provide high availability.\\n5. Rich query language: Redis has a built-in scripting language that allows developers to create complex queries and automate tasks.\\n6. Extensive libraries: Redis has a comprehensive set of libraries for various programming languages, making it easy to integrate into existing software systems.\\n\\nRedis can be used in various ways, including:\\n\\n1. Caching: Storing frequently accessed data in Redis can reduce the load on other databases and improve application performance.\\n2. Session management: Redis can store session IDs and user data, allowing for secure and efficient session handling.\\n3. Queueing: Redis can be used as a message broker to handle high-traffic messaging systems.\\n4. Database backend: Redis can be used as a backend database for small datasets or as a cache layer for larger databases.\\n5. Real-time analytics: Redis can be used to store and process real-time data, such as clickstreams or sensor readings.\\n\\nIn summary, Redis is a versatile in-memory data store that provides high-performance storage and retrieval of small pieces of data. Its features make it an ideal choice for caching, session management, queueing, database backend, and real-time analytics applications.' images=None tool_calls=None \n",
      "\n",
      "llama2, sentence-transformers/all-MiniLM-L6-v2\n",
      "role='assistant' content='\\nRedis is an in-memory data store that can be used as a database, message broker, or cache. It is designed to provide high-performance and low-latency data storage and retrieval, making it well-suited for applications that require real-time data processing and fast response times.\\n\\nHere are some key features of Redis:\\n\\n1. In-memory storage: Redis stores data in the main memory (RAM) rather than on disk, which allows for faster read and write operations compared to traditional databases.\\n2. Key-value store: Redis is a key-value store, meaning that it stores data as a collection of key-value pairs. Each key can have a unique value associated with it.\\n3. Persistence: Redis provides persistence options, which allow the data stored in the system to be saved to disk after a restart or crash. This ensures that the data is not lost in case of an unexpected failure.\\n4. Transactions: Redis supports transactions, which allow multiple operations to be performed on the data store as a single unit of work. If any part of the transaction fails, the entire transaction is rolled back and the data is restored to its previous state.\\n5. Sets and lists: Redis provides sets and lists, which can be used to store collections of unique values or items. These data structures allow for efficient storage and retrieval of related data.\\n6. Maps: Redis also provides a map data structure, which allows for storing and retrieving data as a collection of key-value pairs, where each key is unique.\\n7. Pub/Sub messaging: Redis provides a built-in Pub/Sub messaging system that allows nodes to communicate with each other without the need for explicit connections. This makes it easy to implement distributed systems and microservices.\\n8. Transcoding: Redis can be used as a transcoding layer for media streaming, allowing for efficient processing and delivery of video and audio content.\\n9. Caching: Redis can be used as a caching layer, storing frequently accessed data in memory to reduce the load on other systems and improve performance.\\n10. SQL support: Some versions of Redis provide support for SQL-like queries, making it easier to interact with the data store using standard query language.\\n\\nRedis is often used in web applications, gaming platforms, and other high-performance environments where fast data storage and retrieval are critical. It is also used as a message broker in distributed systems and microservices architecture.' images=None tool_calls=None \n",
      "\n",
      "llama2, sentence-transformers/all-mpnet-base-v2\n",
      "role='assistant' content='\\nRedis (Random Access Memory) is an open-source, in-memory data structure store that serves as a database and message broker. It is primarily used as a key-value store, but it also supports other data models such as graphs, spatial data, full text search, and time series. Redis is often called a \"data structure store\" because of its ability to handle a wide range of data structures beyond just key-value pairs.\\n\\nRedis is known for its fast performance, high scalability, and flexible data model. It can be used for a variety of use cases such as caching frequently accessed data, managing configuration settings, tracking page views, session management, user/event tracking, and active session tracking.\\n\\nSome basic Redis commands include:\\n\\n* SET /path/to/resource: Set a key-value pair\\n* GET /path/to/resource: Retrieve the value associated with a given key\\n\\nRedis supports several data types, including strings, lists, sets, maps, and more. Lists in Redis are implemented as linked lists of string values, which can be used for implementing queues and stacks, among other things.\\n\\nOverall, Redis is a versatile tool that can be used for a wide range of applications due to its fast performance, high scalability, and flexible data model.' images=None tool_calls=None \n",
      "\n",
      "mistral, nomic-embed-text\n",
      "role='assistant' content=' Redis (pronounced as \"red-is\") stands for Remote Dictionary Server, which is an open-source, in-memory data structure store used as a database, cache, and message broker. It can be used as a database or middleware, to store and retrieve data, process the data in real-time, and also act as a caching layer to speed up applications by storing frequently accessed data in memory for faster access.\\n\\n   In your example, you provided code snippets using Redis-py, which is a Python client library used to interact with a Redis server. It allows developers to use Redis from their Python applications easily and efficiently. The given GitHub repository (redis/redis-py) and the command to install it in a Conda environment (pip install redis) are examples of using this client library.\\n\\n   Additionally, you mentioned setting up a data source in PyCharm IDE as Redis, ensuring the port is set to 6379, which is the default port for Redis. By default, Redis has 16 databases numbered from 0 to 15, and these can be selected using the db parameter when connecting to a Redis server using the Python client library or other clients such as redis-cli (command-line interface).\\n\\n   Interacting with a Redis database can involve various data structures like strings, hashes, lists, sets, sorted sets, and geospatial indexes. You can perform common operations on these data structures, such as setting values, getting values, incrementing values, or deleting them. These actions are performed using Redis commands, which you can find in the full command list provided in your example.' images=None tool_calls=None \n",
      "\n",
      "mistral, sentence-transformers/all-MiniLM-L6-v2\n",
      "role='assistant' content=' Redis (REmote DIctionary Server) is an open-source, in-memory data structure store that can be used as a database, cache, and message broker. It supports various types of data structures such as strings, hashes, lists, sets, sorted sets with range queries, bitmaps, hyperloglogs, geospatial indexes with radius queries, and streams.\\n\\nRedis is known for its high performance due to its in-memory data storage and ability to handle large amounts of requests concurrently. It can be deployed as a standalone server or clustered for increased scalability and redundancy. Redis also supports Lua scripting, which allows for complex data manipulation and processing directly on the server.\\n\\nRedis is commonly used in web applications to store session data, caching frequently accessed data, implementing queues for message-driven architectures, and much more. It can be accessed via a variety of programming languages through their respective client libraries or by using the Redis protocol directly.' images=None tool_calls=None \n",
      "\n",
      "mistral, sentence-transformers/all-mpnet-base-v2\n",
      "role='assistant' content=' Redis is an open-source, in-memory data structure store, often referred to as a database, that supports various data structures such as Strings, Hashes, Lists, Sets, Sorted Sets with range queries, bitmaps, HyperLogLogs, and Geospatial indexes. It is primarily used as a KV (Key-Value) store but has additional capabilities to provide other models like Graph, Spatial, Full Text Search, Time Series data handling.\\n\\nRedis stands out due to its high performance, ability to handle large amounts of data, and low latency operations, making it suitable for real-time web applications. Some common use cases include:\\n\\n1. Caching frequently accessed data - to improve the response time of your application by storing frequently requested information in memory for quick retrieval.\\n2. Managing config/settings - store configuration settings and read them efficiently without having to access a file system or external database.\\n3. Tracking page views - count the number of times a specific webpage is accessed, allowing for real-time analytics and monitoring.\\n4. Session information management - manage user sessions by storing session data temporarily in memory for fast lookups and handling concurrent requests.\\n5. User/event tracking - store events generated by users (e.g., clicks, form submissions) for analysis, reporting, or targeted advertising.\\n6. Active session tracking - keep track of active user sessions and monitor their activity to identify inactive sessions for cleanup or security purposes.\\n7. Implementing queues and stacks - use Redis List data types (Linked lists of string values) to manage jobs in a queue or perform last-in-first-out (LIFO) operations with stacks.' images=None tool_calls=None \n",
      "\n"
     ]
    }
   ],
   "source": [
    "for i, response in enumerate(redis_embed[\"LLM Response\"]):\n",
    "    print(redis_embed[\"model/embed\"][i])\n",
    "    print(response[0], \"\\n\")"
   ]
  },
  {
   "cell_type": "code",
   "execution_count": 106,
   "metadata": {},
   "outputs": [
    {
     "name": "stdout",
     "output_type": "stream",
     "text": [
      "llama2, nomic-embed-text\n",
      "role='assistant' content='Redis (Redis Is Not a DB) is an in-memory data storage system that can be used as a database, message broker, and more. It is designed to handle high volumes of data and provide fast access to the data stored within it. Redis supports a wide range of use cases, including:\\n\\n1. As a database: Redis can store and retrieve data in a variety of formats, including strings, hashes, lists, sets, and maps.\\n2. As a message broker: Redis can act as a message broker for distributed systems, allowing messages to be sent and received between different processes or nodes.\\n3. As a cache: Redis can store frequently accessed data in memory, reducing the number of database queries and improving performance.\\n4. As an event queue: Redis can be used to store events that occur in a system, allowing them to be processed later in a timely manner.\\n5. As a task queue: Redis can be used to store tasks that need to be executed at a later time, allowing the system to manage and prioritize these tasks.\\n\\nRedis is often used in web applications, where it can help improve performance by reducing the number of database queries. It is also commonly used in IoT (Internet of Things) systems, where it can handle large amounts of data from sensors and other devices.\\n\\nRedis has several features that make it a popular choice for these use cases, including:\\n\\n1. High performance: Redis is designed to provide fast access to the data stored within it, making it well-suited for high-traffic applications.\\n2. In-memory storage: Redis stores data in memory, allowing for faster access times than traditional disk-based storage solutions.\\n3. Support for multiple data types: Redis supports a variety of data types, including strings, hashes, lists, sets, and maps, making it easy to store and manipulate different types of data.\\n4. Scalability: Redis can be easily scaled horizontally by adding more instances, allowing it to handle increasing amounts of data and traffic over time.\\n5. Easy integration: Redis can be easily integrated into existing systems, allowing developers to quickly and easily add Redis support to their applications.' images=None tool_calls=None \n",
      "\n",
      "llama2, sentence-transformers/all-MiniLM-L6-v2\n",
      "role='assistant' content='Redis (REStore Dictionary) is an in-memory data structure store that can be used as a database, cache, and message broker. It is a popular choice among developers due to its fast performance, high scalability, and simple API. Redis supports various data structures such as strings, hashes, lists, sets, and maps, which can be stored and retrieved efficiently.\\n\\nHere are some of the key features and use cases for Redis:\\n\\n1. In-memory storage: Redis stores data in the main memory (RAM), which provides faster read and write operations compared to disk-based storage.\\n2. High scalability: Redis can handle a large number of concurrent connections and can be easily scaled horizontally by adding more instances.\\n3. Simple API: Redis has a simple and intuitive API, making it easy for developers to integrate it into their applications.\\n4. Data structures: Redis supports various data structures such as strings, hashes, lists, sets, and maps, which can be used to store and retrieve data efficiently.\\n5. Caching: Redis can be used to cache frequently accessed data to improve the performance of an application.\\n6. Message broker: Redis can be used as a message broker to send and receive messages between different parts of an application or system.\\n7. Session management: Redis can be used to store session data, such as user authentication information, to enable fast and efficient access to that data.\\n8. Tracking page views: Redis can be used to track page views and other metrics to help optimize the performance and user experience of a web application.\\n\\nSome basic Redis commands include:\\n\\n1. SET /path/to/resource 0 – Set key-value pair.\\n2. GET – Retrieve the value associated with a key.\\n3. DEL – Remove a key-value pair.\\n4. HSET – Set a hash field.\\n5. HGET – Retrieve the value of a hash field.\\n6. HDEL – Remove a hash field.\\n7. LRAND – Generate a random number between 0 and 1.\\n8. RANDOM – Generate a random number between 0 and 1.\\n9. BINARY – Store a binary value.\\n10. STRING – Store a string value.\\n\\nThese are just some of the basic Redis commands, and there are many more available in the Redis-py documentation. By using these commands, developers can easily store and retrieve data in Redis to build fast and scalable applications.' images=None tool_calls=None \n",
      "\n",
      "llama2, sentence-transformers/all-mpnet-base-v2\n",
      "role='assistant' content='\\nRedis (Remote Dictionary Store) is an open-source, in-memory data structure store that serves as a database and message broker. It is primarily used as a key-value store, but it also supports other models such as graphs, spatial, full-text search, and time series. Redis is often called a \"data structure store\" because of its ability to handle various types of data structures beyond just key-value pairs.\\n\\nHere are some of the main features and use cases for Redis:\\n\\n1. Key-value store: Redis allows you to store and retrieve data as key-value pairs. You can set a key to a value using the `SET` command, and retrieve the value using the `GET` command.\\n2. Caching: Redis can be used to cache frequently accessed data to improve performance. By storing frequently accessed data in Redis, you can reduce the number of database queries and improve the overall speed of your application.\\n3. Managing config/settings: Redis can be used to store configuration settings and other metadata that don\\'t change frequently. This allows you to easily retrieve and update these values without having to query a database every time.\\n4. Tracking page views: Redis can be used to track the number of page views for a website or application. By using Redis to store the number of page views, you can easily retrieve this information without having to query a database every time.\\n5. Session management: Redis can be used to manage session information, such as user IDs and login status. This allows you to easily track user sessions and implement features like active session tracking.\\n6. List data type: Redis provides a list data type that allows you to store linked lists of string values. This can be useful for implementing queues and stacks, among other things.\\n\\nSome basic Redis commands include:\\n\\n1. `SET`: Sets a key-value pair in Redis. Example: `SET mykey \\'hello world\\'`\\n2. `GET`: Retrieves the value associated with a given key in Redis. Example: `GET mykey`\\n3. `DEL`: Deletes a key from Redis. Example: `DEL mykey`\\n4. `APPEND`: Appends a value to a list in Redis. Example: `APPEND mylist \\'hello world\\'`\\n5. `PREPEND`: Prepends a value to a list in Redis. Example: `PREPEND mylist \\'hello world\\'`\\n6. `GETLIST`: Retrieves a list of values associated with a given key in Redis. Example: `GETLIST mykey`\\n7. `SETEX`: Sets a key-value pair with an expiration time in Redis. Example: `SETEX mykey 1h`\\n8. `DELEXV`: Deletes a value associated with a given key in Redis, but does not remove the key itself. Example: `DELEXV mykey \\'hello world\\'`\\n9. `MGET`: Retrieves multiple values associated with a given key in Redis. Example: `MGET mykey \\'hello world\\' \\'goodbye world\\'`\\n10. `MSET`: Sets multiple key-value pairs in Redis. Example: `MSET mykey \\'hello world\\' \\'goodbye world\\' `\\n\\nOverall, Redis is a versatile and powerful tool for managing data structures and implementing various features in applications.' images=None tool_calls=None \n",
      "\n",
      "mistral, nomic-embed-text\n",
      "role='assistant' content=\" Redis (REmote DIctionary Server) is an open-source, in-memory data structure store that can be used as a database, cache, and message broker. It supports various data structures such as strings, hashes, lists, sets, sorted sets with range queries, bitmaps, hyperloglogs, geospatial indexes with radius queries, and streams.\\n\\n   Redis-py is the standard Python client for interacting with a Redis server. You can install it in your Conda environment using pip: `pip install redis`.\\n\\n   To create a connection to a local Redis instance using Redis-py, you can use the following code snippet:\\n\\n```python\\nt = redis.Redis(host='localhost', port=6379, db=2, decode_responses=True)\\n```\\n\\nIn PyCharm or any other IDE, you can add a Redis data source by going to File > New > Data Source > Redis and ensuring the port is set to 6379 and testing the connection.\\n\\n   By default, Redis has 16 databases numbered from 0 to 15, and you can interact with them using various commands provided by the Redis protocol.\" images=None tool_calls=None \n",
      "\n",
      "mistral, sentence-transformers/all-MiniLM-L6-v2\n",
      "role='assistant' content=\" Redis (Remoted Data Structure Server) is an open-source, in-memory data structure store that can be used as a database, cache, and message broker. It supports various data structures like strings, hashes, lists, sets, sorted sets, bitmaps, hyperloglogs, and geospatial indexes. Redis is known for its high performance, reliability, and flexibility, making it suitable for handling real-time applications that require fast data access and manipulation.\\n\\nIn the provided code snippet, a Python client called `redis-py` is being used to connect to a local Redis server (running on port 6379). The variable 't' represents an instance of the Redis client with specified host, port, database, and response decoding options. The given commands are examples of basic Redis operations:\\n\\n- `SET /path/to/resource 0` sets a key-value pair in Redis, where '/path/to/resource' is the key (a unique identifier) and '0' is the value associated with that key.\\n- `GET` retrieves the value of the specified key from Redis.\\n\\nFor more details on available commands, data structures, and advanced features, you can refer to the official Redis documentation: https://redis.io/docs/\\n\\nSome common use cases for Redis are caching frequently accessed data, managing config/settings, and tracking page views in web applications.\" images=None tool_calls=None \n",
      "\n",
      "mistral, sentence-transformers/all-mpnet-base-v2\n",
      "role='assistant' content=' Redis is an open-source, in-memory data structure store that can be used as a database, cache, and message broker. It\\'s known for its high performance, flexibility, and versatility. The name \"Redis\" stands for REmote DIctionary Server, which reflects its primary function as a key-value store, although it supports various other data models like lists, sets, hashes, sorted sets, etc.\\n\\nSome of the use cases of Redis include:\\n  1. Caching frequently accessed data to improve performance and reduce database load.\\n  2. Managing config/settings for applications.\\n  3. Tracking page views or user events.\\n  4. Session information management (storing session IDs, user preferences, etc.).\\n  5. Implementing queues and stacks (Redis lists can be used to create ordered sets of data).\\n\\nBasic Redis Commands:\\n  1. SET /path/to/resource 0 – Set a key-value pair in the Redis database.\\n  2. GET – Retrieve the value associated with a given key from the Redis database.\\n  3. EXPIRE /key seconds – Set an expiration time for a specified key in seconds.\\n  4. DELETE /key – Remove a key and its associated value from the Redis database.\\n  5. LRANGE list_name start stop – Retrieve elements at given indices (start to stop) from a Redis list.\\n  6. LPUSH /list_name element1 [element2...] – Add one or more elements at the beginning of a Redis list.\\n  7. LPop /list_name – Remove and return the first element from a Redis list.\\n\\nOther Redis data types (not covered in this example):\\n  1. SADD /set_name member [member...] – Add one or more members to a Redis set.\\n  2. SMEMBERS /set_name – Retrieve all the members of a specified Redis set.\\n  3. HSET /hash_name field value – Add a new key-value pair to a Redis hash.\\n  4. HGET /hash_name field – Retrieve the value for a given field in a Redis hash.\\n  5. ZADD /sorted_set_name score member [score member...] – Add one or more members along with scores to a Redis sorted set.\\n  6. ZRANGEBYSCORE /sorted_set_name min max – Retrieve all members of a specified Redis sorted set within the given range of scores.' images=None tool_calls=None \n",
      "\n"
     ]
    }
   ],
   "source": [
    "for i, response in enumerate(qdrant_embed[\"LLM Response\"]):\n",
    "    print(qdrant_embed[\"model/embed\"][i])\n",
    "    print(response[0], \"\\n\")"
   ]
  },
  {
   "cell_type": "code",
   "execution_count": 107,
   "metadata": {},
   "outputs": [
    {
     "name": "stdout",
     "output_type": "stream",
     "text": [
      "llama2, nomic-embed-text\n",
      "role='assistant' content=\"Redis is an in-memory data store that can be used as a database, cache, or message broker. It is designed to handle a very high number of operations per second, making it suitable for high-traffic web applications. Redis supports various data structures such as strings, hashes, lists, sets, and maps.\\n\\nRedis-py is a Python client for Redis that provides a simple and efficient way to interact with Redis from your Python code. It is maintained by the Redis company and is available on GitHub. To install Redis-py in your 4300 Conda environment, you can use the `pip` command:\\n```\\npip install redis\\n```\\nOnce installed, you can create a Redis client instance using the `redis.Redis()` class, passing in various options such as the host, port, database, and decode_responses parameter. For example:\\n```\\nt = redis.Redis(host='localhost', port=6379, db=2, decode_responses=True)\\n```\\nThis creates a Redis client instance connected to the `localhost` on port `6379 in database `2`. The `decode_responses` parameter is set to `True`, which means that Redis responses will be decoded to their original value.\\n\\nRedis provides several command types, including:\\n\\n* `New`: Creates a new Redis instance.\\n* `Data Source`: Specifies the data source for the Redis client.\\n* `Redis`: The main command for interacting with the Redis database.\\n\\nTo test the connection, you can use the `test_connection()` method of the `t` object:\\n```\\nt.test_connection()\\n```\\nThis will run a simple test to ensure that the connection to Redis is working properly.\\n\\nRedis databases are numbered from 0 to 15, and each database can have its own set of keys and values. The default database is `0`, which means that any keys you create will be stored in this database by default. You can specify a different database when creating the Redis client instance using the `db` parameter. For example:\\n```\\nt = redis.Redis(host='localhost', port=6379, db=16)\\n```\\nThis creates a Redis client instance connected to `localhost` on port `6379 in database `16`.\\n\\nRedis provides several interaction modes, including:\\n\\n* **Transactions**: Allows you to perform multiple operations on Redis in a single transaction.\\n* **Pub/Sub**: Allows you to communicate with Redis as a publisher or subscriber in a message broker-style system.\\n* **Scripting**: Allows you to define scripts in Redis that can be executed at runtime.\\n\\nOverall, Redis-py is a convenient and efficient way to interact with Redis from your Python code, providing a simple and intuitive API for working with the popular NoSQL database.\" images=None tool_calls=None \n",
      "\n",
      "llama2, sentence-transformers/all-MiniLM-L6-v2\n",
      "role='assistant' content='Redis is an in-memory data store that can be used as a message broker, cache, and database. It is often referred to as a \"data structure server\" because of its ability to store and manipulate various types of data structures, such as strings, hashes, lists, sets, and more.\\n\\nRedis is designed to be fast and scalable, with a focus on high-performance and low-latency operations. It can handle a large number of concurrent connections and requests, making it a popular choice for web applications that require real-time data processing and communication.\\n\\nSome common use cases for Redis include:\\n\\n1. Caching frequently accessed data: Redis can store frequently accessed data in memory, reducing the need to retrieve it from slower storage mechanisms like disk-based databases.\\n2. Managing configuration/settings: Redis can be used to store and manage configuration settings and values for web applications, making them easily accessible and modifiable.\\n3. Tracking page views: Redis can be used to track the number of page views for a website or application, allowing developers to analyze and optimize user behavior.\\n\\nBasic Redis commands include:\\n\\n1. SET /path/to/resource 0 – Set key-value pair.\\n2. GET – Retrieve value associated with specified key.\\n\\nRedis provides a variety of data structures, including:\\n\\n1. Strings (e.g., text or binary data)\\n2. Hashes (e.g., dictionaries or maps)\\n3. Lists (e.g., ordered or unordered collections of values)\\n4. Sets (e.g., unordered collections of unique values)\\n5. Maps (e.g., similar to hashes, but with a key-value pair structure)\\n\\nFor more information on Redis and its commands, you can refer to the Redis-py documentation or other resources online.' images=None tool_calls=None \n",
      "\n",
      "llama2, sentence-transformers/all-mpnet-base-v2\n",
      "role='assistant' content='Redis (Random Access Memory database) is an open-source, in-memory data structure store that is often used as a caching layer or as a messaging system. It is primarily designed to be a key-value store, but it also supports other data models such as graphs, spatial data, full-text search, and time series.\\n\\nRedis can be used for various purposes, including:\\n\\n1. Caching frequently accessed data: Redis can cache frequently accessed data to improve the performance of an application by reducing the number of database queries.\\n2. Managing configuration/settings: Redis can be used to store configuration settings and other metadata that do not change frequently, making it easier to manage and update.\\n3. Tracking page views: Redis can be used to track page views and other events in a web application, allowing for real-time analytics and insights.\\n4. Session information management: Redis can be used to store session information, such as user IDs and login credentials, to improve the security and performance of an application.\\n5. User/event tracking: Redis can be used to track users and events in real-time, allowing for better analytics and insights into user behavior.\\n6. Active session tracking: Redis can be used to track active sessions, allowing for more accurate analysis of user activity.\\n\\nSome basic Redis commands include:\\n\\n1. SET /path/to/resource 0 – Set key-value pair.\\n2. GET – Retrieve the value associated with a given key.\\n\\nRedis is designed to be fast and scalable, making it a popular choice for high-traffic applications and real-time data processing. It is also easy to use and integrate with other systems, thanks to its simple API and support for various programming languages.' images=None tool_calls=None \n",
      "\n",
      "mistral, nomic-embed-text\n",
      "role='assistant' content=' Redis (pronounced as \"red-is\") is an open-source, in-memory data structure store that can be used as a database, cache, and message broker. It supports various data structures like strings, hashes, lists, sets, sorted sets with range queries, bitmaps, hyperloglogs, and geospatial indexes with radius queries. Redis is known for its high performance due to its use of an in-memory dataset and its ability to handle a large number of requests concurrently.\\n\\n   The client used to interact with the Redis server from Python applications is called redis-py, which is a standard Python client maintained by the Redis company. It provides simple methods to access Redis data structures and supports connection pooling for efficient usage in larger applications.\\n\\n   To use Redis in your 4300 Conda environment, you can install the redis-py package using pip:\\n\\n   ```\\n   conda activate 4300\\n   pip install redis\\n   ```\\n\\n   After installation, you can create a Redis connection object and interact with it as follows:\\n\\n   ```python\\n   from redis import Redis\\n\\n   t = Redis(host=\\'localhost\\', port=6379, db=2, decode_responses=True)\\n   ```\\n\\n   To set up the Redis data source in PyCharm or any other IDE, you can create a new data source and choose \"Redis\" from the available options. Make sure to configure the connection details such as host, port, and password if required. You can then use the Redis client provided by the IDE to interact with your Redis server directly in your code.' images=None tool_calls=None \n",
      "\n",
      "mistral, sentence-transformers/all-MiniLM-L6-v2\n",
      "role='assistant' content=\" Redis (REmote Dictionary Server) is an open-source, in-memory data structure store that can be used as a database, cache, and message broker. It supports various data structures like strings, hashes, lists, sets, sorted sets with range queries, bitmaps, hyperloglogs, geospatial indexes with radius queries, and streams (a pub/sub system).\\n\\nRedis is often used for caching frequently accessed data, managing configuration settings, tracking page views, session management, real-time analytics, and building message queues. It's known for its high performance, high throughput, and low latency due to its in-memory nature and support for multiple data structures.\\n\\nHere are some basic Redis commands that you mentioned:\\n\\n* SET /path/to/resource 0 – Set key-value pair\\n* GET - Retrieve the value of a given key\\n\\nFor more information about other Redis commands, you can check out the official documentation at https://redis.io/commands/.\" images=None tool_calls=None \n",
      "\n",
      "mistral, sentence-transformers/all-mpnet-base-v2\n",
      "role='assistant' content=\" Redis (which stands for REmote DIctionary Server) is an open-source, in-memory data structure store that can be used as a database, cache, and message broker. It supports various data structures like strings, hashes, lists, sets, sorted sets with range queries, bitmaps, hyperloglogs, and geospatial indexes with radius queries. Redis is known for its high performance, low latency, and versatility in handling a wide variety of use cases.\\n\\nSome common use cases for Redis include caching frequently accessed data, managing config/settings, tracking page views, session information management, user/event tracking, active session tracking, implementing queues and stacks (using the Redis List type), and other real-time web applications that require fast access to data.\\n\\nIn summary, Redis is a powerful tool in the developer's toolbox for handling data efficiently and quickly across many different types of applications.\" images=None tool_calls=None \n",
      "\n"
     ]
    }
   ],
   "source": [
    "for i, response in enumerate(chroma_embed[\"LLM Response\"]):\n",
    "    print(chroma_embed[\"model/embed\"][i])\n",
    "    print(response[0], \"\\n\")"
   ]
  }
 ],
 "metadata": {
  "kernelspec": {
   "display_name": "base",
   "language": "python",
   "name": "python3"
  },
  "language_info": {
   "codemirror_mode": {
    "name": "ipython",
    "version": 3
   },
   "file_extension": ".py",
   "mimetype": "text/x-python",
   "name": "python",
   "nbconvert_exporter": "python",
   "pygments_lexer": "ipython3",
   "version": "3.11.8"
  }
 },
 "nbformat": 4,
 "nbformat_minor": 2
}
