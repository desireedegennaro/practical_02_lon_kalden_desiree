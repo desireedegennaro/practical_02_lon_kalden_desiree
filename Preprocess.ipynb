{
 "cells": [
  {
   "cell_type": "code",
   "execution_count": 2,
   "metadata": {},
   "outputs": [],
   "source": [
    "\"\"\"import os\n",
    "localfilepath = \"C:\\\\Users\\\\budde\\\\Desktop\\\\ds4300\\\\\"\n",
    "filepath = \"practical_02_lon_kalden_desiree\\\\data\\\\\"\n",
    "word_docs = {}\n",
    "file_list = os.listdir(localfilepath + filepath)\n",
    "for file in file_list:\n",
    "    words = []\n",
    "    with open(localfilepath + filepath + file, mode=\"r\") as infile:\n",
    "        for line in infile.readlines():\n",
    "            words = words + line.strip().split()\n",
    "        word_docs[file] = words\n",
    "word_docs\"\"\""
   ]
  },
  {
   "cell_type": "markdown",
   "metadata": {},
   "source": []
  },
  {
   "cell_type": "code",
   "execution_count": 8,
   "metadata": {},
   "outputs": [],
   "source": [
    "import os\n",
    "import redis\n",
    "from qdrant_client import QdrantClient\n",
    "import chromadb\n",
    "from sentence_transformers import SentenceTransformer\n",
    "import ollama\n",
    "redis_client = redis.Redis(host=\"localhost\", port=6379, db=0)"
   ]
  },
  {
   "cell_type": "code",
   "execution_count": 10,
   "metadata": {},
   "outputs": [],
   "source": [
    "# chunking function\n",
    "def read_data(chunk_sizes=[200, 500, 1000], overlaps=[0, 50, 100]):\n",
    "    filepath = \"data/\"\n",
    "    # if we already processed it doesnt do it again\n",
    "    if redis_client.keys(\"doc:*\"):\n",
    "        #print(\"Already preprocessed\")\n",
    "        return\n",
    "    word_docs = {}\n",
    "\n",
    "    file_list = os.listdir(filepath)\n",
    "    \n",
    "    for file in file_list:\n",
    "        with open(filepath + file, mode=\"r\", encoding='utf-8') as infile:\n",
    "            file_str = infile.read().replace(\"\\n\", \" \")  # remove newlines\n",
    "        chunking = {}\n",
    "\n",
    "        for chunk_size in chunk_sizes:\n",
    "            for overlap in overlaps:\n",
    "                chunks = []\n",
    "                prev_idx = 0\n",
    "                count = 1\n",
    "                while prev_idx < len(file_str):\n",
    "                    if prev_idx + chunk_size >= len(file_str):\n",
    "                        chunk = file_str[prev_idx:]\n",
    "                        word_docs[file + f' chunk{count}'] = chunk\n",
    "                        break\n",
    "                    else:\n",
    "                        chunk = file_str[prev_idx:prev_idx + chunk_size]\n",
    "                    chunks.append(chunk)\n",
    "                    prev_idx = (prev_idx + chunk_size) - overlap\n",
    "                \n",
    "                chunking[f\"chunk{chunk_size}_overlap{overlap}\"] = chunks\n",
    "\n",
    "        word_docs[file] = chunking\n",
    "    return word_docs"
   ]
  },
  {
   "cell_type": "code",
   "execution_count": 11,
   "metadata": {},
   "outputs": [
    {
     "name": "stdout",
     "output_type": "stream",
     "text": [
      "✅ Preprocessed data already exists in Redis. Skipping processing.\n"
     ]
    }
   ],
   "source": [
    "# run chunks\n",
    "word_docs = read_data()\n",
    "#print(f\"{len(word_docs)} docs processed\")"
   ]
  }
 ],
 "metadata": {
  "kernelspec": {
   "display_name": "base",
   "language": "python",
   "name": "python3"
  },
  "language_info": {
   "codemirror_mode": {
    "name": "ipython",
    "version": 3
   },
   "file_extension": ".py",
   "mimetype": "text/x-python",
   "name": "python",
   "nbconvert_exporter": "python",
   "pygments_lexer": "ipython3",
   "version": "3.12.2"
  }
 },
 "nbformat": 4,
 "nbformat_minor": 2
}
